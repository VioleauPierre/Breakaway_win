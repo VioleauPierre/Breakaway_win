{
 "cells": [
  {
   "cell_type": "code",
   "execution_count": 1,
   "id": "1b5ef76d-e982-476c-9384-68a9072d7f5a",
   "metadata": {},
   "outputs": [],
   "source": [
    "import warnings\n",
    "\n",
    "import pandas as pd\n",
    "import numpy as np\n",
    "\n",
    "#metrics\n",
    "from sklearn.metrics import roc_curve, auc, confusion_matrix\n",
    "# Nomralization,standardisation\n",
    "from sklearn.preprocessing import MinMaxScaler\n",
    "from sklearn.preprocessing import StandardScaler\n",
    "#estimators\n",
    "from sklearn.dummy import DummyClassifier\n",
    "from sklearn.linear_model import LogisticRegression\n",
    "from sklearn.svm import LinearSVC\n",
    "from sklearn.tree import DecisionTreeClassifier\n",
    "from sklearn.ensemble import RandomForestClassifier\n",
    "from sklearn.naive_bayes import GaussianNB\n",
    "from sklearn.neighbors import KNeighborsClassifier\n",
    "#model selection\n",
    "from sklearn.model_selection import train_test_split\n",
    "from sklearn.model_selection import GridSearchCV\n",
    "#cross selection\n",
    "from sklearn.model_selection import cross_validate\n",
    "from sklearn.model_selection import cross_val_score\n",
    "\n",
    "import matplotlib.pyplot as plt"
   ]
  },
  {
   "cell_type": "code",
   "execution_count": 2,
   "id": "6fa34e0a-542e-42dd-93f8-1e0202c96063",
   "metadata": {},
   "outputs": [],
   "source": [
    "warnings.filterwarnings(action=\"once\")"
   ]
  },
  {
   "cell_type": "code",
   "execution_count": 3,
   "id": "3a00d88b-430c-42ac-92c2-63d8e935d6c9",
   "metadata": {},
   "outputs": [],
   "source": [
    "df_train_raw = pd.read_excel('Data/Data_2013-2022.xlsx')"
   ]
  },
  {
   "cell_type": "code",
   "execution_count": 4,
   "id": "1ee10586-9e4e-4145-b120-5942527e666a",
   "metadata": {},
   "outputs": [],
   "source": [
    "df_test_raw = pd.read_excel('Data/Data_2023.xlsx')\n",
    "df_test_raw = df_test_raw.iloc[0:38,:]"
   ]
  },
  {
   "cell_type": "code",
   "execution_count": 5,
   "id": "8618d6b5-6811-4d8c-8945-7d22fb4ba266",
   "metadata": {},
   "outputs": [],
   "source": [
    "def confusion(y_test, y_pred) : \n",
    "    mat = confusion_matrix(y_test, y_pred)\n",
    "    mat = pd.DataFrame(mat)\n",
    "    mat.columns = [f\"pred_{i}\" for i in mat.columns]\n",
    "    mat.index = [f\"test_{i}\" for i in mat.index]\n",
    "    return mat"
   ]
  },
  {
   "cell_type": "code",
   "execution_count": 6,
   "id": "3f22982a-5535-453f-915b-1afc8d7255eb",
   "metadata": {},
   "outputs": [],
   "source": [
    "def score(estimator) :\n",
    "    tr_score = estimator.score(X_train, y_train).round(4)\n",
    "    te_score = estimator.score(X_test, y_test).round(4)\n",
    "\n",
    "    print(f\"score train : {tr_score} score test : {te_score} \")\n",
    "    return te_score"
   ]
  },
  {
   "cell_type": "markdown",
   "id": "7bc90aa2-9b5b-4c7a-8d87-1ec8e1c28e81",
   "metadata": {},
   "source": [
    "# 1. Data preparation"
   ]
  },
  {
   "cell_type": "code",
   "execution_count": 7,
   "id": "a0c564fb-6edc-42c4-9004-79cd09473197",
   "metadata": {},
   "outputs": [],
   "source": [
    "#Shuffle data\n",
    "df_train = df_train_raw.sample(frac=1,random_state=1).reset_index(drop=True)"
   ]
  },
  {
   "cell_type": "code",
   "execution_count": 8,
   "id": "312be33f-ce0b-4518-af10-33c9fa2fde72",
   "metadata": {},
   "outputs": [],
   "source": [
    "df_train = df_train.drop(columns=[\"Race\",\"Year\"])\n",
    "df_test = df_test_raw.drop(columns=[\"Race\",\"Year\"])"
   ]
  },
  {
   "cell_type": "code",
   "execution_count": 9,
   "id": "1db9b56d-b001-48d9-959f-45b358960bf6",
   "metadata": {},
   "outputs": [
    {
     "name": "stdout",
     "output_type": "stream",
     "text": [
      "Breakaway win             1.000000\n",
      "Stage classification      0.409890\n",
      "elevation gain            0.390591\n",
      "KM last climb - finish    0.342084\n",
      "Nbr 2 cat                 0.281083\n",
      "Nbr 1 cat/HC              0.254558\n",
      "Nbr 3 cat                 0.210351\n",
      "Stage nbr                 0.198722\n",
      "Nbr 4 cat                 0.182892\n",
      "length                    0.031045\n",
      "Name: Breakaway win, dtype: float64\n"
     ]
    }
   ],
   "source": [
    "#Checking correlation between columns\n",
    "print(df_train.corr()[\"Breakaway win\"].abs().sort_values(ascending=False))"
   ]
  },
  {
   "cell_type": "code",
   "execution_count": 10,
   "id": "ef43906b-8c43-44d3-8fde-b0c1e000ca17",
   "metadata": {},
   "outputs": [],
   "source": [
    "X_train = df_train.drop(columns=\"Breakaway win\")\n",
    "y_train = df_train[\"Breakaway win\"]"
   ]
  },
  {
   "cell_type": "code",
   "execution_count": 11,
   "id": "47e222b3-d7ad-4946-8d67-a824e16dfd51",
   "metadata": {},
   "outputs": [],
   "source": [
    "X_test = df_test.drop(columns=\"Breakaway win\")\n",
    "y_test = df_test[\"Breakaway win\"]"
   ]
  },
  {
   "cell_type": "code",
   "execution_count": 12,
   "id": "fbb3d370-193d-4f3a-9d3e-be9880f7e010",
   "metadata": {},
   "outputs": [],
   "source": [
    "scaler = MinMaxScaler() \n",
    "#scaler = StandardScaler()\n",
    "X_train_norm = scaler.fit_transform(X_train)\n",
    "X_test_norm = scaler.fit_transform(X_test)"
   ]
  },
  {
   "cell_type": "code",
   "execution_count": 13,
   "id": "4ddc1b33-81c9-41df-b452-d27d9621fccc",
   "metadata": {},
   "outputs": [],
   "source": [
    "list_score = {}"
   ]
  },
  {
   "cell_type": "markdown",
   "id": "58cc06c5-584e-4452-b92a-9ccf7a91cdba",
   "metadata": {},
   "source": [
    "# 2. Modelisation"
   ]
  },
  {
   "cell_type": "markdown",
   "id": "bc82ce23-3242-4d1c-be6a-9928bd9dc405",
   "metadata": {},
   "source": [
    "## 2.1 Dummy classifier"
   ]
  },
  {
   "cell_type": "code",
   "execution_count": 14,
   "id": "98ac6e21-787c-44d0-b6e6-8f2ffafd7d3c",
   "metadata": {},
   "outputs": [],
   "source": [
    "estimator = DummyClassifier(strategy=\"most_frequent\")\n",
    "estimator.fit(X_train, y_train)\n",
    "cv_results = cross_validate(estimator, X_train, y_train, cv=3,return_estimator=True)"
   ]
  },
  {
   "cell_type": "code",
   "execution_count": 15,
   "id": "b6a47558-c3ac-4836-a4ab-fa6b8d3655ac",
   "metadata": {},
   "outputs": [
    {
     "data": {
      "text/plain": [
       "array([0.62234043, 0.62566845, 0.62032086])"
      ]
     },
     "execution_count": 15,
     "metadata": {},
     "output_type": "execute_result"
    }
   ],
   "source": [
    "cv_results['test_score']"
   ]
  },
  {
   "cell_type": "code",
   "execution_count": 16,
   "id": "7090b89b-e7e5-4d34-b8a6-cee1d0b18d81",
   "metadata": {},
   "outputs": [
    {
     "data": {
      "text/plain": [
       "0.622776576781583"
      ]
     },
     "execution_count": 16,
     "metadata": {},
     "output_type": "execute_result"
    }
   ],
   "source": [
    "cv_results['test_score'].mean()"
   ]
  },
  {
   "cell_type": "code",
   "execution_count": 17,
   "id": "e21e0d04-b999-4872-9fe5-514ab20299e7",
   "metadata": {},
   "outputs": [],
   "source": [
    "test_score = []\n",
    "for i in range(len(cv_results['estimator'])):\n",
    "  test_score.append(cv_results['estimator'][i].score(X_test, y_test))"
   ]
  },
  {
   "cell_type": "code",
   "execution_count": 18,
   "id": "c92c947c-bd6c-4889-b99c-15572aa6b2f7",
   "metadata": {},
   "outputs": [
    {
     "data": {
      "text/plain": [
       "0.5"
      ]
     },
     "execution_count": 18,
     "metadata": {},
     "output_type": "execute_result"
    }
   ],
   "source": [
    "sum(test_score) / len(test_score)"
   ]
  },
  {
   "cell_type": "code",
   "execution_count": 19,
   "id": "8e8d6692-e902-4a42-a7fa-397e99f5d319",
   "metadata": {},
   "outputs": [
    {
     "name": "stdout",
     "output_type": "stream",
     "text": [
      "score train : 0.6228 score test : 0.5 \n"
     ]
    }
   ],
   "source": [
    "dum_score = score(estimator)\n",
    "list_score[\"Dummy classifier\"] = dum_score"
   ]
  },
  {
   "cell_type": "code",
   "execution_count": 20,
   "id": "97c5313c-1fef-4ba2-88b9-9d84c2da4dfd",
   "metadata": {},
   "outputs": [],
   "source": [
    "y_pred = estimator.predict(X_test)\n",
    "dum_pred = estimator.predict(X_test)"
   ]
  },
  {
   "cell_type": "code",
   "execution_count": 21,
   "id": "91f70804-d5e9-4267-b0b1-3316d84d4020",
   "metadata": {},
   "outputs": [
    {
     "data": {
      "text/html": [
       "<div>\n",
       "<style scoped>\n",
       "    .dataframe tbody tr th:only-of-type {\n",
       "        vertical-align: middle;\n",
       "    }\n",
       "\n",
       "    .dataframe tbody tr th {\n",
       "        vertical-align: top;\n",
       "    }\n",
       "\n",
       "    .dataframe thead th {\n",
       "        text-align: right;\n",
       "    }\n",
       "</style>\n",
       "<table border=\"1\" class=\"dataframe\">\n",
       "  <thead>\n",
       "    <tr style=\"text-align: right;\">\n",
       "      <th></th>\n",
       "      <th>pred_0</th>\n",
       "      <th>pred_1</th>\n",
       "    </tr>\n",
       "  </thead>\n",
       "  <tbody>\n",
       "    <tr>\n",
       "      <th>test_0</th>\n",
       "      <td>19</td>\n",
       "      <td>0</td>\n",
       "    </tr>\n",
       "    <tr>\n",
       "      <th>test_1</th>\n",
       "      <td>19</td>\n",
       "      <td>0</td>\n",
       "    </tr>\n",
       "  </tbody>\n",
       "</table>\n",
       "</div>"
      ],
      "text/plain": [
       "        pred_0  pred_1\n",
       "test_0      19       0\n",
       "test_1      19       0"
      ]
     },
     "execution_count": 21,
     "metadata": {},
     "output_type": "execute_result"
    }
   ],
   "source": [
    "confusion(y_test, y_pred)"
   ]
  },
  {
   "cell_type": "code",
   "execution_count": 22,
   "id": "5bafc55a-dd3e-40ed-b4d0-f7480ebbcfd7",
   "metadata": {},
   "outputs": [
    {
     "data": {
      "text/plain": [
       "0.5"
      ]
     },
     "execution_count": 22,
     "metadata": {},
     "output_type": "execute_result"
    }
   ],
   "source": [
    "false_positive_rate, true_positive_rate, thresholds = roc_curve(y_test, y_pred)\n",
    "roc_auc = auc(false_positive_rate, true_positive_rate)\n",
    "roc_auc"
   ]
  },
  {
   "cell_type": "code",
   "execution_count": 23,
   "id": "48a004f1-23de-4dcf-bfdd-21d9ed8b1564",
   "metadata": {},
   "outputs": [
    {
     "data": {
      "image/png": "[encoded data removed]",
      "text/plain": [
       "<Figure size 1000x1000 with 1 Axes>"
      ]
     },
     "metadata": {},
     "output_type": "display_data"
    }
   ],
   "source": [
    "plt.figure(figsize=(10,10))\n",
    "plt.title(\"Receveir Operating Characteristic\")\n",
    "plt.plot(false_positive_rate,true_positive_rate, color=\"red\", label= \"AUC = %0.2f\" % roc_auc)\n",
    "plt.legend(loc = \"lower right\")\n",
    "plt.plot([0,1],[0,1], linestyle=\"--\")\n",
    "plt.axis(\"tight\")\n",
    "plt.ylabel(\"True Positive Rate\")\n",
    "plt.xlabel(\"False Positive Rate\")\n",
    "plt.show()"
   ]
  },
  {
   "cell_type": "markdown",
   "id": "63c591b4-f1ed-4ca6-868a-32a942b1da82",
   "metadata": {},
   "source": [
    "## 2.2 Logistic regression"
   ]
  },
  {
   "cell_type": "markdown",
   "id": "8eab57ab-161c-4445-b18b-470f2f92162d",
   "metadata": {},
   "source": [
    "Better result without Normalization"
   ]
  },
  {
   "cell_type": "code",
   "execution_count": 24,
   "id": "400a8073-919b-4667-a1ce-e468052c344f",
   "metadata": {},
   "outputs": [],
   "source": [
    "estimator = LogisticRegression(solver=\"liblinear\")\n",
    "estimator.fit(X_train, y_train)\n",
    "cv_results = cross_validate(estimator, X_train, y_train, cv=3,return_estimator=True)"
   ]
  },
  {
   "cell_type": "code",
   "execution_count": 25,
   "id": "358ae756-e2fd-4861-88df-261302bddda6",
   "metadata": {},
   "outputs": [
    {
     "data": {
      "text/plain": [
       "array([0.68085106, 0.68449198, 0.69518717])"
      ]
     },
     "execution_count": 25,
     "metadata": {},
     "output_type": "execute_result"
    }
   ],
   "source": [
    "cv_results['test_score']"
   ]
  },
  {
   "cell_type": "code",
   "execution_count": 26,
   "id": "65d0117d-b134-4dc4-9f4a-2922b741a789",
   "metadata": {},
   "outputs": [
    {
     "data": {
      "text/plain": [
       "0.6868434027382713"
      ]
     },
     "execution_count": 26,
     "metadata": {},
     "output_type": "execute_result"
    }
   ],
   "source": [
    "cv_results['test_score'].mean()"
   ]
  },
  {
   "cell_type": "code",
   "execution_count": 27,
   "id": "0b1ed5c8-874a-40aa-9305-246b771c53da",
   "metadata": {},
   "outputs": [],
   "source": [
    "test_score = []\n",
    "for i in range(len(cv_results['estimator'])):\n",
    "  test_score.append(cv_results['estimator'][i].score(X_test, y_test))"
   ]
  },
  {
   "cell_type": "code",
   "execution_count": 28,
   "id": "04930263-b692-4dcf-ad73-c416723e1e25",
   "metadata": {},
   "outputs": [
    {
     "data": {
      "text/plain": [
       "0.6666666666666666"
      ]
     },
     "execution_count": 28,
     "metadata": {},
     "output_type": "execute_result"
    }
   ],
   "source": [
    "sum(test_score) / len(test_score)"
   ]
  },
  {
   "cell_type": "code",
   "execution_count": 29,
   "id": "3fbe87f1-9f1b-4088-aba4-3c10c1e5665a",
   "metadata": {},
   "outputs": [
    {
     "name": "stdout",
     "output_type": "stream",
     "text": [
      "score train : 0.7117 score test : 0.6316 \n"
     ]
    }
   ],
   "source": [
    "log_score = score(estimator)\n",
    "list_score[\"Logistic regression\"] = log_score"
   ]
  },
  {
   "cell_type": "code",
   "execution_count": 30,
   "id": "b98d3472-ec70-445c-8491-a6c333c9a562",
   "metadata": {},
   "outputs": [],
   "source": [
    "y_pred =estimator.predict(X_test)\n",
    "log_pred = estimator.predict(X_test)\n",
    "#y_pred = cv_results['estimator'][2].predict(X_test)"
   ]
  },
  {
   "cell_type": "code",
   "execution_count": 31,
   "id": "91e1849b-8aa1-4089-b2cd-c6eb93a773d1",
   "metadata": {},
   "outputs": [
    {
     "data": {
      "text/html": [
       "<div>\n",
       "<style scoped>\n",
       "    .dataframe tbody tr th:only-of-type {\n",
       "        vertical-align: middle;\n",
       "    }\n",
       "\n",
       "    .dataframe tbody tr th {\n",
       "        vertical-align: top;\n",
       "    }\n",
       "\n",
       "    .dataframe thead th {\n",
       "        text-align: right;\n",
       "    }\n",
       "</style>\n",
       "<table border=\"1\" class=\"dataframe\">\n",
       "  <thead>\n",
       "    <tr style=\"text-align: right;\">\n",
       "      <th></th>\n",
       "      <th>pred_0</th>\n",
       "      <th>pred_1</th>\n",
       "    </tr>\n",
       "  </thead>\n",
       "  <tbody>\n",
       "    <tr>\n",
       "      <th>test_0</th>\n",
       "      <td>16</td>\n",
       "      <td>3</td>\n",
       "    </tr>\n",
       "    <tr>\n",
       "      <th>test_1</th>\n",
       "      <td>11</td>\n",
       "      <td>8</td>\n",
       "    </tr>\n",
       "  </tbody>\n",
       "</table>\n",
       "</div>"
      ],
      "text/plain": [
       "        pred_0  pred_1\n",
       "test_0      16       3\n",
       "test_1      11       8"
      ]
     },
     "execution_count": 31,
     "metadata": {},
     "output_type": "execute_result"
    }
   ],
   "source": [
    "confusion(y_test, y_pred)"
   ]
  },
  {
   "cell_type": "code",
   "execution_count": 32,
   "id": "8ca409e4-b226-4295-bf78-dc889e0b640d",
   "metadata": {},
   "outputs": [
    {
     "data": {
      "text/plain": [
       "0.631578947368421"
      ]
     },
     "execution_count": 32,
     "metadata": {},
     "output_type": "execute_result"
    }
   ],
   "source": [
    "false_positive_rate, true_positive_rate, thresholds = roc_curve(y_test, y_pred)\n",
    "roc_auc = auc(false_positive_rate, true_positive_rate)\n",
    "roc_auc"
   ]
  },
  {
   "cell_type": "code",
   "execution_count": 33,
   "id": "c771afcc-2ea4-4a7d-824d-f998a6af038b",
   "metadata": {},
   "outputs": [
    {
     "data": {
      "image/png": "[encoded data removed]",
      "text/plain": [
       "<Figure size 1000x1000 with 1 Axes>"
      ]
     },
     "metadata": {},
     "output_type": "display_data"
    }
   ],
   "source": [
    "plt.figure(figsize=(10,10))\n",
    "plt.title(\"Receveir Operating Characteristic\")\n",
    "plt.plot(false_positive_rate,true_positive_rate, color=\"red\", label= \"AUC = %0.2f\" % roc_auc)\n",
    "plt.legend(loc = \"lower right\")\n",
    "plt.plot([0,1],[0,1], linestyle=\"--\")\n",
    "plt.axis(\"tight\")\n",
    "plt.ylabel(\"True Positive Rate\")\n",
    "plt.xlabel(\"False Positive Rate\")\n",
    "plt.show()"
   ]
  },
  {
   "cell_type": "markdown",
   "id": "375fb608-32dc-4d1b-99f6-58f09b66dcd2",
   "metadata": {},
   "source": [
    "# 2.3 SVM"
   ]
  },
  {
   "cell_type": "markdown",
   "id": "e4dbd66a-83b9-49e3-8abf-d0b093885c45",
   "metadata": {},
   "source": [
    "Better result after Normalization"
   ]
  },
  {
   "cell_type": "code",
   "execution_count": 34,
   "id": "3ffdfd90-88e3-4a94-b11a-b21b966db064",
   "metadata": {},
   "outputs": [],
   "source": [
    "estimator = LinearSVC(dual=False)"
   ]
  },
  {
   "cell_type": "code",
   "execution_count": 35,
   "id": "543ac2bf-92c9-429c-b67d-863e48ac12c1",
   "metadata": {},
   "outputs": [],
   "source": [
    "estimator.fit(X_train_norm, y_train)\n",
    "cv_results = cross_validate(estimator, X_train_norm, y_train, cv=3,return_estimator=True)"
   ]
  },
  {
   "cell_type": "code",
   "execution_count": 36,
   "id": "3f37aa20-7e03-409c-9d47-42fa861fb1a7",
   "metadata": {},
   "outputs": [
    {
     "data": {
      "text/plain": [
       "array([0.67021277, 0.70588235, 0.68983957])"
      ]
     },
     "execution_count": 36,
     "metadata": {},
     "output_type": "execute_result"
    }
   ],
   "source": [
    "cv_results['test_score']"
   ]
  },
  {
   "cell_type": "code",
   "execution_count": 37,
   "id": "38cf1b89-427d-4c66-9bd6-292b3227e440",
   "metadata": {},
   "outputs": [
    {
     "data": {
      "text/plain": [
       "0.6886448970303789"
      ]
     },
     "execution_count": 37,
     "metadata": {},
     "output_type": "execute_result"
    }
   ],
   "source": [
    "cv_results['test_score'].mean()"
   ]
  },
  {
   "cell_type": "code",
   "execution_count": 38,
   "id": "0c257246-dfa3-4fe6-9109-cd9b58d8d919",
   "metadata": {},
   "outputs": [],
   "source": [
    "test_score = []\n",
    "for i in range(len(cv_results['estimator'])):\n",
    "  test_score.append(cv_results['estimator'][i].score(X_test_norm, y_test))"
   ]
  },
  {
   "cell_type": "code",
   "execution_count": 39,
   "id": "2cafc8f9-845d-4efb-9323-47b030659ec5",
   "metadata": {},
   "outputs": [
    {
     "data": {
      "text/plain": [
       "0.6754385964912281"
      ]
     },
     "execution_count": 39,
     "metadata": {},
     "output_type": "execute_result"
    }
   ],
   "source": [
    "sum(test_score) / len(test_score)"
   ]
  },
  {
   "cell_type": "code",
   "execution_count": 40,
   "id": "770bb3d1-aed9-49eb-9997-8cfb2a5a9f57",
   "metadata": {},
   "outputs": [
    {
     "name": "stdout",
     "output_type": "stream",
     "text": [
      "score train : 0.7011 score test : 0.6579 \n"
     ]
    }
   ],
   "source": [
    "tr_score = estimator.score(X_train_norm, y_train).round(4)\n",
    "svm_score = estimator.score(X_test_norm, y_test).round(4)\n",
    "print(f\"score train : {tr_score} score test : {svm_score} \")\n",
    "list_score[\"SVM\"] = svm_score"
   ]
  },
  {
   "cell_type": "code",
   "execution_count": 41,
   "id": "e9ceeb73-3ade-4cdd-a750-dd23d4a132f6",
   "metadata": {},
   "outputs": [],
   "source": [
    "y_pred =estimator.predict(X_test_norm)\n",
    "svm_pred = estimator.predict(X_test_norm)\n",
    "#y_pred = cv_results['estimator'][2].predict(X_test)"
   ]
  },
  {
   "cell_type": "code",
   "execution_count": 42,
   "id": "129d39c2-e428-4afa-a462-fbe3441547e9",
   "metadata": {},
   "outputs": [
    {
     "data": {
      "text/html": [
       "<div>\n",
       "<style scoped>\n",
       "    .dataframe tbody tr th:only-of-type {\n",
       "        vertical-align: middle;\n",
       "    }\n",
       "\n",
       "    .dataframe tbody tr th {\n",
       "        vertical-align: top;\n",
       "    }\n",
       "\n",
       "    .dataframe thead th {\n",
       "        text-align: right;\n",
       "    }\n",
       "</style>\n",
       "<table border=\"1\" class=\"dataframe\">\n",
       "  <thead>\n",
       "    <tr style=\"text-align: right;\">\n",
       "      <th></th>\n",
       "      <th>pred_0</th>\n",
       "      <th>pred_1</th>\n",
       "    </tr>\n",
       "  </thead>\n",
       "  <tbody>\n",
       "    <tr>\n",
       "      <th>test_0</th>\n",
       "      <td>15</td>\n",
       "      <td>4</td>\n",
       "    </tr>\n",
       "    <tr>\n",
       "      <th>test_1</th>\n",
       "      <td>9</td>\n",
       "      <td>10</td>\n",
       "    </tr>\n",
       "  </tbody>\n",
       "</table>\n",
       "</div>"
      ],
      "text/plain": [
       "        pred_0  pred_1\n",
       "test_0      15       4\n",
       "test_1       9      10"
      ]
     },
     "execution_count": 42,
     "metadata": {},
     "output_type": "execute_result"
    }
   ],
   "source": [
    "confusion(y_test, y_pred)"
   ]
  },
  {
   "cell_type": "code",
   "execution_count": 43,
   "id": "d69fc34f-1ecd-413b-bd70-7ce4c4b3d609",
   "metadata": {},
   "outputs": [
    {
     "data": {
      "text/plain": [
       "0.6578947368421052"
      ]
     },
     "execution_count": 43,
     "metadata": {},
     "output_type": "execute_result"
    }
   ],
   "source": [
    "false_positive_rate, true_positive_rate, thresholds = roc_curve(y_test, y_pred)\n",
    "roc_auc = auc(false_positive_rate, true_positive_rate)\n",
    "roc_auc"
   ]
  },
  {
   "cell_type": "code",
   "execution_count": 44,
   "id": "73e94f92-69c3-4dd1-9bd0-9f2417fd7093",
   "metadata": {},
   "outputs": [
    {
     "data": {
      "image/png": "[encoded data removed]",
      "text/plain": [
       "<Figure size 1000x1000 with 1 Axes>"
      ]
     },
     "metadata": {},
     "output_type": "display_data"
    }
   ],
   "source": [
    "plt.figure(figsize=(10,10))\n",
    "plt.title(\"Receveir Operating Characteristic\")\n",
    "plt.plot(false_positive_rate,true_positive_rate, color=\"red\", label= \"AUC = %0.2f\" % roc_auc)\n",
    "plt.legend(loc = \"lower right\")\n",
    "plt.plot([0,1],[0,1], linestyle=\"--\")\n",
    "plt.axis(\"tight\")\n",
    "plt.ylabel(\"True Positive Rate\")\n",
    "plt.xlabel(\"False Positive Rate\")\n",
    "plt.show()"
   ]
  },
  {
   "cell_type": "markdown",
   "id": "689786ff-c5a0-4843-8578-a83d6eee15b3",
   "metadata": {},
   "source": [
    "## 2.4 Decision trees"
   ]
  },
  {
   "cell_type": "markdown",
   "id": "2a26afa7-b2b7-4d3f-8fed-199e46cbbcc4",
   "metadata": {},
   "source": [
    "Better result without Normalization"
   ]
  },
  {
   "cell_type": "code",
   "execution_count": 45,
   "id": "e2b535a9",
   "metadata": {},
   "outputs": [],
   "source": [
    "estimator = DecisionTreeClassifier()"
   ]
  },
  {
   "cell_type": "code",
   "execution_count": 46,
   "id": "897eaf15-cb64-4918-bddf-c0c007469673",
   "metadata": {},
   "outputs": [],
   "source": [
    "estimator.fit(X_train, y_train)\n",
    "cv_results = cross_validate(estimator, X_train, y_train, cv=3,return_estimator=True)"
   ]
  },
  {
   "cell_type": "code",
   "execution_count": 47,
   "id": "13baddc2",
   "metadata": {},
   "outputs": [
    {
     "data": {
      "text/plain": [
       "array([0.64361702, 0.62032086, 0.65240642])"
      ]
     },
     "execution_count": 47,
     "metadata": {},
     "output_type": "execute_result"
    }
   ],
   "source": [
    "cv_results['test_score']"
   ]
  },
  {
   "cell_type": "code",
   "execution_count": 48,
   "id": "8adf99e6",
   "metadata": {},
   "outputs": [
    {
     "data": {
      "text/plain": [
       "0.6387814313346228"
      ]
     },
     "execution_count": 48,
     "metadata": {},
     "output_type": "execute_result"
    }
   ],
   "source": [
    "cv_results['test_score'].mean()"
   ]
  },
  {
   "cell_type": "code",
   "execution_count": 49,
   "id": "a4f10dfc",
   "metadata": {},
   "outputs": [],
   "source": [
    "test_score = []\n",
    "for i in range(len(cv_results['estimator'])):\n",
    "  test_score.append(cv_results['estimator'][i].score(X_test, y_test))"
   ]
  },
  {
   "cell_type": "code",
   "execution_count": 50,
   "id": "bde468ec",
   "metadata": {},
   "outputs": [
    {
     "data": {
      "text/plain": [
       "0.6842105263157894"
      ]
     },
     "execution_count": 50,
     "metadata": {},
     "output_type": "execute_result"
    }
   ],
   "source": [
    "sum(test_score) / len(test_score)"
   ]
  },
  {
   "cell_type": "code",
   "execution_count": 51,
   "id": "c26b3a88",
   "metadata": {},
   "outputs": [
    {
     "name": "stdout",
     "output_type": "stream",
     "text": [
      "score train : 1.0 score test : 0.6579 \n"
     ]
    }
   ],
   "source": [
    "dt_score = score(estimator)\n",
    "list_score[\"Decision trees\"] = dt_score"
   ]
  },
  {
   "cell_type": "code",
   "execution_count": 52,
   "id": "3e6a607a",
   "metadata": {},
   "outputs": [],
   "source": [
    "y_pred =estimator.predict(X_test)\n",
    "dt_pred = estimator.predict(X_test)\n",
    "#y_pred = cv_results['estimator'][2].predict(X_test)"
   ]
  },
  {
   "cell_type": "code",
   "execution_count": 53,
   "id": "fdd4812a",
   "metadata": {},
   "outputs": [
    {
     "data": {
      "text/html": [
       "<div>\n",
       "<style scoped>\n",
       "    .dataframe tbody tr th:only-of-type {\n",
       "        vertical-align: middle;\n",
       "    }\n",
       "\n",
       "    .dataframe tbody tr th {\n",
       "        vertical-align: top;\n",
       "    }\n",
       "\n",
       "    .dataframe thead th {\n",
       "        text-align: right;\n",
       "    }\n",
       "</style>\n",
       "<table border=\"1\" class=\"dataframe\">\n",
       "  <thead>\n",
       "    <tr style=\"text-align: right;\">\n",
       "      <th></th>\n",
       "      <th>pred_0</th>\n",
       "      <th>pred_1</th>\n",
       "    </tr>\n",
       "  </thead>\n",
       "  <tbody>\n",
       "    <tr>\n",
       "      <th>test_0</th>\n",
       "      <td>14</td>\n",
       "      <td>5</td>\n",
       "    </tr>\n",
       "    <tr>\n",
       "      <th>test_1</th>\n",
       "      <td>8</td>\n",
       "      <td>11</td>\n",
       "    </tr>\n",
       "  </tbody>\n",
       "</table>\n",
       "</div>"
      ],
      "text/plain": [
       "        pred_0  pred_1\n",
       "test_0      14       5\n",
       "test_1       8      11"
      ]
     },
     "execution_count": 53,
     "metadata": {},
     "output_type": "execute_result"
    }
   ],
   "source": [
    "confusion(y_test, y_pred)"
   ]
  },
  {
   "cell_type": "code",
   "execution_count": 54,
   "id": "efad0fcb",
   "metadata": {},
   "outputs": [
    {
     "data": {
      "text/plain": [
       "0.6578947368421053"
      ]
     },
     "execution_count": 54,
     "metadata": {},
     "output_type": "execute_result"
    }
   ],
   "source": [
    "false_positive_rate, true_positive_rate, thresholds = roc_curve(y_test, y_pred)\n",
    "roc_auc = auc(false_positive_rate, true_positive_rate)\n",
    "roc_auc"
   ]
  },
  {
   "cell_type": "code",
   "execution_count": 55,
   "id": "250ea165",
   "metadata": {},
   "outputs": [
    {
     "data": {
      "image/png": "[encoded data removed]",
      "text/plain": [
       "<Figure size 1000x1000 with 1 Axes>"
      ]
     },
     "metadata": {},
     "output_type": "display_data"
    }
   ],
   "source": [
    "plt.figure(figsize=(10,10))\n",
    "plt.title(\"Receveir Operating Characteristic\")\n",
    "plt.plot(false_positive_rate,true_positive_rate, color=\"red\", label= \"AUC = %0.2f\" % roc_auc)\n",
    "plt.legend(loc = \"lower right\")\n",
    "plt.plot([0,1],[0,1], linestyle=\"--\")\n",
    "plt.axis(\"tight\")\n",
    "plt.ylabel(\"True Positive Rate\")\n",
    "plt.xlabel(\"False Positive Rate\")\n",
    "plt.show()"
   ]
  },
  {
   "cell_type": "markdown",
   "id": "6f8732cb-76bc-4d75-8893-3ca48d9af4e7",
   "metadata": {},
   "source": [
    "## 2.5 Random forest"
   ]
  },
  {
   "cell_type": "markdown",
   "id": "3a252e02-225b-4449-9e92-5ba3f937c8d8",
   "metadata": {},
   "source": [
    "Better result without Normalization"
   ]
  },
  {
   "cell_type": "code",
   "execution_count": 56,
   "id": "94fc59e4",
   "metadata": {},
   "outputs": [],
   "source": [
    "estimator = RandomForestClassifier()"
   ]
  },
  {
   "cell_type": "code",
   "execution_count": 57,
   "id": "a5d8efb7-5425-4e06-b4ba-5f0ad0c111b6",
   "metadata": {},
   "outputs": [],
   "source": [
    "estimator.fit(X_train, y_train)\n",
    "cv_results = cross_validate(estimator, X_train, y_train, cv=3,return_estimator=True)"
   ]
  },
  {
   "cell_type": "code",
   "execution_count": 58,
   "id": "9bb4dcf2",
   "metadata": {},
   "outputs": [
    {
     "data": {
      "text/plain": [
       "array([0.72340426, 0.72727273, 0.68983957])"
      ]
     },
     "execution_count": 58,
     "metadata": {},
     "output_type": "execute_result"
    }
   ],
   "source": [
    "cv_results['test_score']"
   ]
  },
  {
   "cell_type": "code",
   "execution_count": 59,
   "id": "b4164cd9",
   "metadata": {},
   "outputs": [
    {
     "data": {
      "text/plain": [
       "0.7135055182614632"
      ]
     },
     "execution_count": 59,
     "metadata": {},
     "output_type": "execute_result"
    }
   ],
   "source": [
    "cv_results['test_score'].mean()"
   ]
  },
  {
   "cell_type": "code",
   "execution_count": 60,
   "id": "f33846b3",
   "metadata": {},
   "outputs": [],
   "source": [
    "test_score = []\n",
    "for i in range(len(cv_results['estimator'])):\n",
    "  test_score.append(cv_results['estimator'][i].score(X_test, y_test))"
   ]
  },
  {
   "cell_type": "code",
   "execution_count": 61,
   "id": "aafdab65",
   "metadata": {},
   "outputs": [
    {
     "data": {
      "text/plain": [
       "0.6842105263157895"
      ]
     },
     "execution_count": 61,
     "metadata": {},
     "output_type": "execute_result"
    }
   ],
   "source": [
    "sum(test_score) / len(test_score)"
   ]
  },
  {
   "cell_type": "code",
   "execution_count": 62,
   "id": "d1c44c5a",
   "metadata": {},
   "outputs": [
    {
     "name": "stdout",
     "output_type": "stream",
     "text": [
      "score train : 1.0 score test : 0.7105 \n"
     ]
    }
   ],
   "source": [
    "rd_score = score(estimator)\n",
    "list_score[\"Random forest\"] = rd_score"
   ]
  },
  {
   "cell_type": "code",
   "execution_count": 63,
   "id": "dbc4a9b4",
   "metadata": {},
   "outputs": [],
   "source": [
    "y_pred =estimator.predict(X_test)\n",
    "rf_pred = estimator.predict(X_test)\n",
    "#y_pred = cv_results['estimator'][2].predict(X_test)"
   ]
  },
  {
   "cell_type": "code",
   "execution_count": 64,
   "id": "f06cba57",
   "metadata": {},
   "outputs": [
    {
     "data": {
      "text/html": [
       "<div>\n",
       "<style scoped>\n",
       "    .dataframe tbody tr th:only-of-type {\n",
       "        vertical-align: middle;\n",
       "    }\n",
       "\n",
       "    .dataframe tbody tr th {\n",
       "        vertical-align: top;\n",
       "    }\n",
       "\n",
       "    .dataframe thead th {\n",
       "        text-align: right;\n",
       "    }\n",
       "</style>\n",
       "<table border=\"1\" class=\"dataframe\">\n",
       "  <thead>\n",
       "    <tr style=\"text-align: right;\">\n",
       "      <th></th>\n",
       "      <th>pred_0</th>\n",
       "      <th>pred_1</th>\n",
       "    </tr>\n",
       "  </thead>\n",
       "  <tbody>\n",
       "    <tr>\n",
       "      <th>test_0</th>\n",
       "      <td>16</td>\n",
       "      <td>3</td>\n",
       "    </tr>\n",
       "    <tr>\n",
       "      <th>test_1</th>\n",
       "      <td>8</td>\n",
       "      <td>11</td>\n",
       "    </tr>\n",
       "  </tbody>\n",
       "</table>\n",
       "</div>"
      ],
      "text/plain": [
       "        pred_0  pred_1\n",
       "test_0      16       3\n",
       "test_1       8      11"
      ]
     },
     "execution_count": 64,
     "metadata": {},
     "output_type": "execute_result"
    }
   ],
   "source": [
    "confusion(y_test, y_pred)"
   ]
  },
  {
   "cell_type": "code",
   "execution_count": 65,
   "id": "7becc0de",
   "metadata": {},
   "outputs": [
    {
     "data": {
      "text/plain": [
       "0.7105263157894737"
      ]
     },
     "execution_count": 65,
     "metadata": {},
     "output_type": "execute_result"
    }
   ],
   "source": [
    "false_positive_rate, true_positive_rate, thresholds = roc_curve(y_test, y_pred)\n",
    "roc_auc = auc(false_positive_rate, true_positive_rate)\n",
    "roc_auc"
   ]
  },
  {
   "cell_type": "code",
   "execution_count": 66,
   "id": "e797feb6",
   "metadata": {},
   "outputs": [
    {
     "data": {
      "image/png": "[encoded data removed]",
      "text/plain": [
       "<Figure size 1000x1000 with 1 Axes>"
      ]
     },
     "metadata": {},
     "output_type": "display_data"
    }
   ],
   "source": [
    "plt.figure(figsize=(10,10))\n",
    "plt.title(\"Receveir Operating Characteristic\")\n",
    "plt.plot(false_positive_rate,true_positive_rate, color=\"red\", label= \"AUC = %0.2f\" % roc_auc)\n",
    "plt.legend(loc = \"lower right\")\n",
    "plt.plot([0,1],[0,1], linestyle=\"--\")\n",
    "plt.axis(\"tight\")\n",
    "plt.ylabel(\"True Positive Rate\")\n",
    "plt.xlabel(\"False Positive Rate\")\n",
    "plt.show()"
   ]
  },
  {
   "cell_type": "markdown",
   "id": "01a9372f-f70f-4100-9925-1e0c863b96b0",
   "metadata": {},
   "source": [
    "## 2.6 Naive Bayes"
   ]
  },
  {
   "cell_type": "markdown",
   "id": "e688f448-2cfc-498d-86fe-f386e30463f0",
   "metadata": {},
   "source": [
    "Better result without Normalization"
   ]
  },
  {
   "cell_type": "code",
   "execution_count": 67,
   "id": "dd39b11b",
   "metadata": {},
   "outputs": [],
   "source": [
    "estimator = GaussianNB()"
   ]
  },
  {
   "cell_type": "code",
   "execution_count": 68,
   "id": "c15b6931-3d85-49c1-b5a6-55be8457b282",
   "metadata": {},
   "outputs": [],
   "source": [
    "estimator.fit(X_train, y_train)\n",
    "cv_results = cross_validate(estimator, X_train, y_train, cv=3,return_estimator=True)"
   ]
  },
  {
   "cell_type": "code",
   "execution_count": 69,
   "id": "7398d6f4",
   "metadata": {},
   "outputs": [
    {
     "data": {
      "text/plain": [
       "array([0.71808511, 0.73796791, 0.72727273])"
      ]
     },
     "execution_count": 69,
     "metadata": {},
     "output_type": "execute_result"
    }
   ],
   "source": [
    "cv_results['test_score']"
   ]
  },
  {
   "cell_type": "code",
   "execution_count": 70,
   "id": "f312c75a",
   "metadata": {},
   "outputs": [
    {
     "data": {
      "text/plain": [
       "0.7277752493647363"
      ]
     },
     "execution_count": 70,
     "metadata": {},
     "output_type": "execute_result"
    }
   ],
   "source": [
    "cv_results['test_score'].mean()"
   ]
  },
  {
   "cell_type": "code",
   "execution_count": 71,
   "id": "8520c6a3",
   "metadata": {},
   "outputs": [],
   "source": [
    "test_score = []\n",
    "for i in range(len(cv_results['estimator'])):\n",
    "  test_score.append(cv_results['estimator'][i].score(X_test, y_test))"
   ]
  },
  {
   "cell_type": "code",
   "execution_count": 72,
   "id": "6029647d",
   "metadata": {},
   "outputs": [
    {
     "data": {
      "text/plain": [
       "0.6929824561403509"
      ]
     },
     "execution_count": 72,
     "metadata": {},
     "output_type": "execute_result"
    }
   ],
   "source": [
    "sum(test_score) / len(test_score)"
   ]
  },
  {
   "cell_type": "code",
   "execution_count": 73,
   "id": "7475f35a",
   "metadata": {},
   "outputs": [
    {
     "name": "stdout",
     "output_type": "stream",
     "text": [
      "score train : 0.7242 score test : 0.6842 \n"
     ]
    }
   ],
   "source": [
    "nb_score = score(estimator)\n",
    "list_score[\"Naive Bayes\"] = nb_score"
   ]
  },
  {
   "cell_type": "code",
   "execution_count": 74,
   "id": "899422ec",
   "metadata": {},
   "outputs": [],
   "source": [
    "y_pred =estimator.predict(X_test)\n",
    "nb_pred = estimator.predict(X_test)\n",
    "#y_pred = cv_results['estimator'][2].predict(X_test)"
   ]
  },
  {
   "cell_type": "code",
   "execution_count": 75,
   "id": "fb5efa73",
   "metadata": {},
   "outputs": [
    {
     "data": {
      "text/html": [
       "<div>\n",
       "<style scoped>\n",
       "    .dataframe tbody tr th:only-of-type {\n",
       "        vertical-align: middle;\n",
       "    }\n",
       "\n",
       "    .dataframe tbody tr th {\n",
       "        vertical-align: top;\n",
       "    }\n",
       "\n",
       "    .dataframe thead th {\n",
       "        text-align: right;\n",
       "    }\n",
       "</style>\n",
       "<table border=\"1\" class=\"dataframe\">\n",
       "  <thead>\n",
       "    <tr style=\"text-align: right;\">\n",
       "      <th></th>\n",
       "      <th>pred_0</th>\n",
       "      <th>pred_1</th>\n",
       "    </tr>\n",
       "  </thead>\n",
       "  <tbody>\n",
       "    <tr>\n",
       "      <th>test_0</th>\n",
       "      <td>14</td>\n",
       "      <td>5</td>\n",
       "    </tr>\n",
       "    <tr>\n",
       "      <th>test_1</th>\n",
       "      <td>7</td>\n",
       "      <td>12</td>\n",
       "    </tr>\n",
       "  </tbody>\n",
       "</table>\n",
       "</div>"
      ],
      "text/plain": [
       "        pred_0  pred_1\n",
       "test_0      14       5\n",
       "test_1       7      12"
      ]
     },
     "execution_count": 75,
     "metadata": {},
     "output_type": "execute_result"
    }
   ],
   "source": [
    "confusion(y_test, y_pred)"
   ]
  },
  {
   "cell_type": "code",
   "execution_count": 76,
   "id": "1b27ce99",
   "metadata": {},
   "outputs": [
    {
     "data": {
      "text/plain": [
       "0.6842105263157895"
      ]
     },
     "execution_count": 76,
     "metadata": {},
     "output_type": "execute_result"
    }
   ],
   "source": [
    "false_positive_rate, true_positive_rate, thresholds = roc_curve(y_test, y_pred)\n",
    "roc_auc = auc(false_positive_rate, true_positive_rate)\n",
    "roc_auc"
   ]
  },
  {
   "cell_type": "code",
   "execution_count": 77,
   "id": "cda6cadb",
   "metadata": {},
   "outputs": [
    {
     "data": {
      "image/png": "[encoded data removed]",
      "text/plain": [
       "<Figure size 1000x1000 with 1 Axes>"
      ]
     },
     "metadata": {},
     "output_type": "display_data"
    }
   ],
   "source": [
    "plt.figure(figsize=(10,10))\n",
    "plt.title(\"Receveir Operating Characteristic\")\n",
    "plt.plot(false_positive_rate,true_positive_rate, color=\"red\", label= \"AUC = %0.2f\" % roc_auc)\n",
    "plt.legend(loc = \"lower right\")\n",
    "plt.plot([0,1],[0,1], linestyle=\"--\")\n",
    "plt.axis(\"tight\")\n",
    "plt.ylabel(\"True Positive Rate\")\n",
    "plt.xlabel(\"False Positive Rate\")\n",
    "plt.show()"
   ]
  },
  {
   "cell_type": "markdown",
   "id": "13090d50-854d-4287-baf0-c0a34054d03e",
   "metadata": {},
   "source": [
    "## 2.7 K-Nearest Neighbors"
   ]
  },
  {
   "cell_type": "markdown",
   "id": "61323463-26f4-4db8-87e1-d5e4289678b9",
   "metadata": {},
   "source": [
    "Better result after Normalization"
   ]
  },
  {
   "cell_type": "code",
   "execution_count": 78,
   "id": "cca9af72",
   "metadata": {},
   "outputs": [],
   "source": [
    "estimator = KNeighborsClassifier()"
   ]
  },
  {
   "cell_type": "code",
   "execution_count": 79,
   "id": "32e85aa5-890f-4179-852a-42fe6aa1c129",
   "metadata": {},
   "outputs": [],
   "source": [
    "estimator.fit(X_train_norm, y_train)\n",
    "cv_results = cross_validate(estimator, X_train_norm, y_train, cv=3,return_estimator=True)"
   ]
  },
  {
   "cell_type": "code",
   "execution_count": 80,
   "id": "067632a9",
   "metadata": {},
   "outputs": [
    {
     "data": {
      "text/plain": [
       "array([0.66489362, 0.73262032, 0.71122995])"
      ]
     },
     "execution_count": 80,
     "metadata": {},
     "output_type": "execute_result"
    }
   ],
   "source": [
    "cv_results['test_score']"
   ]
  },
  {
   "cell_type": "code",
   "execution_count": 81,
   "id": "af893ace",
   "metadata": {},
   "outputs": [
    {
     "data": {
      "text/plain": [
       "0.7029146281336519"
      ]
     },
     "execution_count": 81,
     "metadata": {},
     "output_type": "execute_result"
    }
   ],
   "source": [
    "cv_results['test_score'].mean()"
   ]
  },
  {
   "cell_type": "code",
   "execution_count": 82,
   "id": "85584c3a",
   "metadata": {},
   "outputs": [],
   "source": [
    "test_score = []\n",
    "for i in range(len(cv_results['estimator'])):\n",
    "  test_score.append(cv_results['estimator'][i].score(X_test_norm, y_test))"
   ]
  },
  {
   "cell_type": "code",
   "execution_count": 83,
   "id": "4055e9bb",
   "metadata": {},
   "outputs": [
    {
     "data": {
      "text/plain": [
       "0.6491228070175439"
      ]
     },
     "execution_count": 83,
     "metadata": {},
     "output_type": "execute_result"
    }
   ],
   "source": [
    "sum(test_score) / len(test_score)"
   ]
  },
  {
   "cell_type": "code",
   "execution_count": 84,
   "id": "c4e4cbe5",
   "metadata": {},
   "outputs": [
    {
     "name": "stdout",
     "output_type": "stream",
     "text": [
      "score train : 0.8114 score test : 0.7105 \n"
     ]
    }
   ],
   "source": [
    "tr_score = estimator.score(X_train_norm, y_train).round(4)\n",
    "knn_score = estimator.score(X_test_norm, y_test).round(4)\n",
    "print(f\"score train : {tr_score} score test : {knn_score} \")\n",
    "list_score[\"KNN\"] = knn_score"
   ]
  },
  {
   "cell_type": "code",
   "execution_count": 85,
   "id": "b41e66e2",
   "metadata": {},
   "outputs": [],
   "source": [
    "y_pred =estimator.predict(X_test_norm)\n",
    "knn_pred = estimator.predict(X_test_norm)\n",
    "#y_pred = cv_results['estimator'][2].predict(X_test)"
   ]
  },
  {
   "cell_type": "code",
   "execution_count": 86,
   "id": "03117f6f-8d16-4282-af3d-e0ec6de98e50",
   "metadata": {},
   "outputs": [
    {
     "data": {
      "text/plain": [
       "array([0, 0, 1, 0, 0, 0, 0, 1, 0, 0, 0, 0, 0, 0, 0, 1, 1, 0, 0, 0, 0, 0,\n",
       "       1, 1, 0, 0, 1, 1, 0, 1, 1, 1, 1, 0, 1, 0, 1, 0], dtype=int64)"
      ]
     },
     "execution_count": 86,
     "metadata": {},
     "output_type": "execute_result"
    }
   ],
   "source": [
    "knn_pred"
   ]
  },
  {
   "cell_type": "code",
   "execution_count": 87,
   "id": "416c8c7e",
   "metadata": {},
   "outputs": [
    {
     "data": {
      "text/html": [
       "<div>\n",
       "<style scoped>\n",
       "    .dataframe tbody tr th:only-of-type {\n",
       "        vertical-align: middle;\n",
       "    }\n",
       "\n",
       "    .dataframe tbody tr th {\n",
       "        vertical-align: top;\n",
       "    }\n",
       "\n",
       "    .dataframe thead th {\n",
       "        text-align: right;\n",
       "    }\n",
       "</style>\n",
       "<table border=\"1\" class=\"dataframe\">\n",
       "  <thead>\n",
       "    <tr style=\"text-align: right;\">\n",
       "      <th></th>\n",
       "      <th>pred_0</th>\n",
       "      <th>pred_1</th>\n",
       "    </tr>\n",
       "  </thead>\n",
       "  <tbody>\n",
       "    <tr>\n",
       "      <th>test_0</th>\n",
       "      <td>16</td>\n",
       "      <td>3</td>\n",
       "    </tr>\n",
       "    <tr>\n",
       "      <th>test_1</th>\n",
       "      <td>8</td>\n",
       "      <td>11</td>\n",
       "    </tr>\n",
       "  </tbody>\n",
       "</table>\n",
       "</div>"
      ],
      "text/plain": [
       "        pred_0  pred_1\n",
       "test_0      16       3\n",
       "test_1       8      11"
      ]
     },
     "execution_count": 87,
     "metadata": {},
     "output_type": "execute_result"
    }
   ],
   "source": [
    "confusion(y_test, y_pred)"
   ]
  },
  {
   "cell_type": "code",
   "execution_count": 88,
   "id": "91f17d93",
   "metadata": {},
   "outputs": [
    {
     "data": {
      "text/plain": [
       "0.7105263157894737"
      ]
     },
     "execution_count": 88,
     "metadata": {},
     "output_type": "execute_result"
    }
   ],
   "source": [
    "false_positive_rate, true_positive_rate, thresholds = roc_curve(y_test, y_pred)\n",
    "roc_auc = auc(false_positive_rate, true_positive_rate)\n",
    "roc_auc"
   ]
  },
  {
   "cell_type": "code",
   "execution_count": 89,
   "id": "723a15cc",
   "metadata": {},
   "outputs": [
    {
     "data": {
      "image/png": "[encoded data removed]",
      "text/plain": [
       "<Figure size 1000x1000 with 1 Axes>"
      ]
     },
     "metadata": {},
     "output_type": "display_data"
    }
   ],
   "source": [
    "plt.figure(figsize=(10,10))\n",
    "plt.title(\"Receveir Operating Characteristic\")\n",
    "plt.plot(false_positive_rate,true_positive_rate, color=\"red\", label= \"AUC = %0.2f\" % roc_auc)\n",
    "plt.legend(loc = \"lower right\")\n",
    "plt.plot([0,1],[0,1], linestyle=\"--\")\n",
    "plt.axis(\"tight\")\n",
    "plt.ylabel(\"True Positive Rate\")\n",
    "plt.xlabel(\"False Positive Rate\")\n",
    "plt.show()"
   ]
  },
  {
   "cell_type": "markdown",
   "id": "33750e80-5d7a-4b23-b13b-8ba9d73a3c9c",
   "metadata": {},
   "source": [
    "# 3. Overall Result"
   ]
  },
  {
   "cell_type": "code",
   "execution_count": 90,
   "id": "1153030a-378b-44d8-a497-7e16e98d4a09",
   "metadata": {},
   "outputs": [],
   "source": [
    "df_result = pd.DataFrame(list(zip(df_test_raw.iloc[:,0],df_test_raw.iloc[:,2],y_test.astype(int),dum_pred,log_pred,svm_pred,dt_pred,rf_pred,nb_pred,knn_pred)),\n",
    "                                              columns =[\"Grand Tour\",\"Stage\",\"Breakaway_win\",\"Dummy pred\",\"Logistic pred\",\"SVM pred\",\"Decision tree pred\",\"Random forest pred\",\"Naive Bayes pred\",\"KNN pred\"])"
   ]
  },
  {
   "cell_type": "code",
   "execution_count": 91,
   "id": "afa045e4-bed7-48e7-a0ec-58ed6de2e3b1",
   "metadata": {},
   "outputs": [
    {
     "data": {
      "text/html": [
       "<div>\n",
       "<style scoped>\n",
       "    .dataframe tbody tr th:only-of-type {\n",
       "        vertical-align: middle;\n",
       "    }\n",
       "\n",
       "    .dataframe tbody tr th {\n",
       "        vertical-align: top;\n",
       "    }\n",
       "\n",
       "    .dataframe thead th {\n",
       "        text-align: right;\n",
       "    }\n",
       "</style>\n",
       "<table border=\"1\" class=\"dataframe\">\n",
       "  <thead>\n",
       "    <tr style=\"text-align: right;\">\n",
       "      <th></th>\n",
       "      <th>Grand Tour</th>\n",
       "      <th>Stage</th>\n",
       "      <th>Breakaway_win</th>\n",
       "      <th>Dummy pred</th>\n",
       "      <th>Logistic pred</th>\n",
       "      <th>SVM pred</th>\n",
       "      <th>Decision tree pred</th>\n",
       "      <th>Random forest pred</th>\n",
       "      <th>Naive Bayes pred</th>\n",
       "      <th>KNN pred</th>\n",
       "    </tr>\n",
       "  </thead>\n",
       "  <tbody>\n",
       "    <tr>\n",
       "      <th>0</th>\n",
       "      <td>Giro</td>\n",
       "      <td>2</td>\n",
       "      <td>0</td>\n",
       "      <td>0</td>\n",
       "      <td>0</td>\n",
       "      <td>0</td>\n",
       "      <td>0</td>\n",
       "      <td>0</td>\n",
       "      <td>0</td>\n",
       "      <td>0</td>\n",
       "    </tr>\n",
       "    <tr>\n",
       "      <th>1</th>\n",
       "      <td>Giro</td>\n",
       "      <td>3</td>\n",
       "      <td>0</td>\n",
       "      <td>0</td>\n",
       "      <td>0</td>\n",
       "      <td>0</td>\n",
       "      <td>0</td>\n",
       "      <td>0</td>\n",
       "      <td>0</td>\n",
       "      <td>0</td>\n",
       "    </tr>\n",
       "    <tr>\n",
       "      <th>2</th>\n",
       "      <td>Giro</td>\n",
       "      <td>4</td>\n",
       "      <td>1</td>\n",
       "      <td>0</td>\n",
       "      <td>0</td>\n",
       "      <td>1</td>\n",
       "      <td>1</td>\n",
       "      <td>1</td>\n",
       "      <td>1</td>\n",
       "      <td>1</td>\n",
       "    </tr>\n",
       "    <tr>\n",
       "      <th>3</th>\n",
       "      <td>Giro</td>\n",
       "      <td>5</td>\n",
       "      <td>0</td>\n",
       "      <td>0</td>\n",
       "      <td>0</td>\n",
       "      <td>0</td>\n",
       "      <td>0</td>\n",
       "      <td>0</td>\n",
       "      <td>0</td>\n",
       "      <td>0</td>\n",
       "    </tr>\n",
       "    <tr>\n",
       "      <th>4</th>\n",
       "      <td>Giro</td>\n",
       "      <td>6</td>\n",
       "      <td>0</td>\n",
       "      <td>0</td>\n",
       "      <td>0</td>\n",
       "      <td>0</td>\n",
       "      <td>0</td>\n",
       "      <td>0</td>\n",
       "      <td>0</td>\n",
       "      <td>0</td>\n",
       "    </tr>\n",
       "    <tr>\n",
       "      <th>5</th>\n",
       "      <td>Giro</td>\n",
       "      <td>7</td>\n",
       "      <td>1</td>\n",
       "      <td>0</td>\n",
       "      <td>1</td>\n",
       "      <td>1</td>\n",
       "      <td>0</td>\n",
       "      <td>1</td>\n",
       "      <td>1</td>\n",
       "      <td>0</td>\n",
       "    </tr>\n",
       "    <tr>\n",
       "      <th>6</th>\n",
       "      <td>Giro</td>\n",
       "      <td>8</td>\n",
       "      <td>1</td>\n",
       "      <td>0</td>\n",
       "      <td>0</td>\n",
       "      <td>0</td>\n",
       "      <td>0</td>\n",
       "      <td>1</td>\n",
       "      <td>0</td>\n",
       "      <td>0</td>\n",
       "    </tr>\n",
       "    <tr>\n",
       "      <th>7</th>\n",
       "      <td>Giro</td>\n",
       "      <td>10</td>\n",
       "      <td>1</td>\n",
       "      <td>0</td>\n",
       "      <td>0</td>\n",
       "      <td>0</td>\n",
       "      <td>1</td>\n",
       "      <td>0</td>\n",
       "      <td>0</td>\n",
       "      <td>1</td>\n",
       "    </tr>\n",
       "    <tr>\n",
       "      <th>8</th>\n",
       "      <td>Giro</td>\n",
       "      <td>11</td>\n",
       "      <td>0</td>\n",
       "      <td>0</td>\n",
       "      <td>0</td>\n",
       "      <td>0</td>\n",
       "      <td>0</td>\n",
       "      <td>0</td>\n",
       "      <td>0</td>\n",
       "      <td>0</td>\n",
       "    </tr>\n",
       "    <tr>\n",
       "      <th>9</th>\n",
       "      <td>Giro</td>\n",
       "      <td>12</td>\n",
       "      <td>1</td>\n",
       "      <td>0</td>\n",
       "      <td>0</td>\n",
       "      <td>1</td>\n",
       "      <td>1</td>\n",
       "      <td>1</td>\n",
       "      <td>1</td>\n",
       "      <td>0</td>\n",
       "    </tr>\n",
       "    <tr>\n",
       "      <th>10</th>\n",
       "      <td>Giro</td>\n",
       "      <td>13</td>\n",
       "      <td>1</td>\n",
       "      <td>0</td>\n",
       "      <td>0</td>\n",
       "      <td>0</td>\n",
       "      <td>0</td>\n",
       "      <td>0</td>\n",
       "      <td>0</td>\n",
       "      <td>0</td>\n",
       "    </tr>\n",
       "    <tr>\n",
       "      <th>11</th>\n",
       "      <td>Giro</td>\n",
       "      <td>14</td>\n",
       "      <td>1</td>\n",
       "      <td>0</td>\n",
       "      <td>0</td>\n",
       "      <td>0</td>\n",
       "      <td>1</td>\n",
       "      <td>0</td>\n",
       "      <td>0</td>\n",
       "      <td>0</td>\n",
       "    </tr>\n",
       "    <tr>\n",
       "      <th>12</th>\n",
       "      <td>Giro</td>\n",
       "      <td>15</td>\n",
       "      <td>1</td>\n",
       "      <td>0</td>\n",
       "      <td>1</td>\n",
       "      <td>1</td>\n",
       "      <td>0</td>\n",
       "      <td>1</td>\n",
       "      <td>1</td>\n",
       "      <td>0</td>\n",
       "    </tr>\n",
       "    <tr>\n",
       "      <th>13</th>\n",
       "      <td>Giro</td>\n",
       "      <td>16</td>\n",
       "      <td>0</td>\n",
       "      <td>0</td>\n",
       "      <td>1</td>\n",
       "      <td>1</td>\n",
       "      <td>1</td>\n",
       "      <td>0</td>\n",
       "      <td>1</td>\n",
       "      <td>0</td>\n",
       "    </tr>\n",
       "    <tr>\n",
       "      <th>14</th>\n",
       "      <td>Giro</td>\n",
       "      <td>17</td>\n",
       "      <td>0</td>\n",
       "      <td>0</td>\n",
       "      <td>0</td>\n",
       "      <td>0</td>\n",
       "      <td>1</td>\n",
       "      <td>0</td>\n",
       "      <td>0</td>\n",
       "      <td>0</td>\n",
       "    </tr>\n",
       "    <tr>\n",
       "      <th>15</th>\n",
       "      <td>Giro</td>\n",
       "      <td>18</td>\n",
       "      <td>1</td>\n",
       "      <td>0</td>\n",
       "      <td>0</td>\n",
       "      <td>1</td>\n",
       "      <td>1</td>\n",
       "      <td>1</td>\n",
       "      <td>1</td>\n",
       "      <td>1</td>\n",
       "    </tr>\n",
       "    <tr>\n",
       "      <th>16</th>\n",
       "      <td>Giro</td>\n",
       "      <td>19</td>\n",
       "      <td>1</td>\n",
       "      <td>0</td>\n",
       "      <td>1</td>\n",
       "      <td>1</td>\n",
       "      <td>0</td>\n",
       "      <td>0</td>\n",
       "      <td>1</td>\n",
       "      <td>1</td>\n",
       "    </tr>\n",
       "    <tr>\n",
       "      <th>17</th>\n",
       "      <td>Giro</td>\n",
       "      <td>21</td>\n",
       "      <td>0</td>\n",
       "      <td>0</td>\n",
       "      <td>0</td>\n",
       "      <td>0</td>\n",
       "      <td>0</td>\n",
       "      <td>0</td>\n",
       "      <td>0</td>\n",
       "      <td>0</td>\n",
       "    </tr>\n",
       "    <tr>\n",
       "      <th>18</th>\n",
       "      <td>Tour</td>\n",
       "      <td>1</td>\n",
       "      <td>0</td>\n",
       "      <td>0</td>\n",
       "      <td>0</td>\n",
       "      <td>1</td>\n",
       "      <td>0</td>\n",
       "      <td>0</td>\n",
       "      <td>1</td>\n",
       "      <td>0</td>\n",
       "    </tr>\n",
       "    <tr>\n",
       "      <th>19</th>\n",
       "      <td>Tour</td>\n",
       "      <td>2</td>\n",
       "      <td>0</td>\n",
       "      <td>0</td>\n",
       "      <td>0</td>\n",
       "      <td>0</td>\n",
       "      <td>0</td>\n",
       "      <td>0</td>\n",
       "      <td>0</td>\n",
       "      <td>0</td>\n",
       "    </tr>\n",
       "    <tr>\n",
       "      <th>20</th>\n",
       "      <td>Tour</td>\n",
       "      <td>3</td>\n",
       "      <td>0</td>\n",
       "      <td>0</td>\n",
       "      <td>0</td>\n",
       "      <td>0</td>\n",
       "      <td>0</td>\n",
       "      <td>0</td>\n",
       "      <td>0</td>\n",
       "      <td>0</td>\n",
       "    </tr>\n",
       "    <tr>\n",
       "      <th>21</th>\n",
       "      <td>Tour</td>\n",
       "      <td>4</td>\n",
       "      <td>0</td>\n",
       "      <td>0</td>\n",
       "      <td>0</td>\n",
       "      <td>0</td>\n",
       "      <td>0</td>\n",
       "      <td>0</td>\n",
       "      <td>0</td>\n",
       "      <td>0</td>\n",
       "    </tr>\n",
       "    <tr>\n",
       "      <th>22</th>\n",
       "      <td>Tour</td>\n",
       "      <td>5</td>\n",
       "      <td>1</td>\n",
       "      <td>0</td>\n",
       "      <td>0</td>\n",
       "      <td>0</td>\n",
       "      <td>1</td>\n",
       "      <td>1</td>\n",
       "      <td>1</td>\n",
       "      <td>1</td>\n",
       "    </tr>\n",
       "    <tr>\n",
       "      <th>23</th>\n",
       "      <td>Tour</td>\n",
       "      <td>6</td>\n",
       "      <td>0</td>\n",
       "      <td>0</td>\n",
       "      <td>0</td>\n",
       "      <td>0</td>\n",
       "      <td>1</td>\n",
       "      <td>1</td>\n",
       "      <td>1</td>\n",
       "      <td>1</td>\n",
       "    </tr>\n",
       "    <tr>\n",
       "      <th>24</th>\n",
       "      <td>Tour</td>\n",
       "      <td>7</td>\n",
       "      <td>0</td>\n",
       "      <td>0</td>\n",
       "      <td>0</td>\n",
       "      <td>0</td>\n",
       "      <td>0</td>\n",
       "      <td>0</td>\n",
       "      <td>0</td>\n",
       "      <td>0</td>\n",
       "    </tr>\n",
       "    <tr>\n",
       "      <th>25</th>\n",
       "      <td>Tour</td>\n",
       "      <td>8</td>\n",
       "      <td>0</td>\n",
       "      <td>0</td>\n",
       "      <td>0</td>\n",
       "      <td>0</td>\n",
       "      <td>0</td>\n",
       "      <td>0</td>\n",
       "      <td>0</td>\n",
       "      <td>0</td>\n",
       "    </tr>\n",
       "    <tr>\n",
       "      <th>26</th>\n",
       "      <td>Tour</td>\n",
       "      <td>9</td>\n",
       "      <td>1</td>\n",
       "      <td>0</td>\n",
       "      <td>0</td>\n",
       "      <td>0</td>\n",
       "      <td>1</td>\n",
       "      <td>1</td>\n",
       "      <td>0</td>\n",
       "      <td>1</td>\n",
       "    </tr>\n",
       "    <tr>\n",
       "      <th>27</th>\n",
       "      <td>Tour</td>\n",
       "      <td>10</td>\n",
       "      <td>1</td>\n",
       "      <td>0</td>\n",
       "      <td>1</td>\n",
       "      <td>1</td>\n",
       "      <td>1</td>\n",
       "      <td>1</td>\n",
       "      <td>1</td>\n",
       "      <td>1</td>\n",
       "    </tr>\n",
       "    <tr>\n",
       "      <th>28</th>\n",
       "      <td>Tour</td>\n",
       "      <td>11</td>\n",
       "      <td>0</td>\n",
       "      <td>0</td>\n",
       "      <td>0</td>\n",
       "      <td>0</td>\n",
       "      <td>0</td>\n",
       "      <td>0</td>\n",
       "      <td>0</td>\n",
       "      <td>0</td>\n",
       "    </tr>\n",
       "    <tr>\n",
       "      <th>29</th>\n",
       "      <td>Tour</td>\n",
       "      <td>12</td>\n",
       "      <td>1</td>\n",
       "      <td>0</td>\n",
       "      <td>1</td>\n",
       "      <td>1</td>\n",
       "      <td>1</td>\n",
       "      <td>1</td>\n",
       "      <td>1</td>\n",
       "      <td>1</td>\n",
       "    </tr>\n",
       "    <tr>\n",
       "      <th>30</th>\n",
       "      <td>Tour</td>\n",
       "      <td>13</td>\n",
       "      <td>1</td>\n",
       "      <td>0</td>\n",
       "      <td>1</td>\n",
       "      <td>0</td>\n",
       "      <td>0</td>\n",
       "      <td>0</td>\n",
       "      <td>1</td>\n",
       "      <td>1</td>\n",
       "    </tr>\n",
       "    <tr>\n",
       "      <th>31</th>\n",
       "      <td>Tour</td>\n",
       "      <td>14</td>\n",
       "      <td>0</td>\n",
       "      <td>0</td>\n",
       "      <td>1</td>\n",
       "      <td>1</td>\n",
       "      <td>1</td>\n",
       "      <td>1</td>\n",
       "      <td>1</td>\n",
       "      <td>1</td>\n",
       "    </tr>\n",
       "    <tr>\n",
       "      <th>32</th>\n",
       "      <td>Tour</td>\n",
       "      <td>15</td>\n",
       "      <td>1</td>\n",
       "      <td>0</td>\n",
       "      <td>1</td>\n",
       "      <td>1</td>\n",
       "      <td>0</td>\n",
       "      <td>0</td>\n",
       "      <td>1</td>\n",
       "      <td>1</td>\n",
       "    </tr>\n",
       "    <tr>\n",
       "      <th>33</th>\n",
       "      <td>Tour</td>\n",
       "      <td>17</td>\n",
       "      <td>1</td>\n",
       "      <td>0</td>\n",
       "      <td>1</td>\n",
       "      <td>1</td>\n",
       "      <td>1</td>\n",
       "      <td>0</td>\n",
       "      <td>1</td>\n",
       "      <td>0</td>\n",
       "    </tr>\n",
       "    <tr>\n",
       "      <th>34</th>\n",
       "      <td>Tour</td>\n",
       "      <td>18</td>\n",
       "      <td>1</td>\n",
       "      <td>0</td>\n",
       "      <td>0</td>\n",
       "      <td>0</td>\n",
       "      <td>1</td>\n",
       "      <td>0</td>\n",
       "      <td>0</td>\n",
       "      <td>1</td>\n",
       "    </tr>\n",
       "    <tr>\n",
       "      <th>35</th>\n",
       "      <td>Tour</td>\n",
       "      <td>19</td>\n",
       "      <td>1</td>\n",
       "      <td>0</td>\n",
       "      <td>0</td>\n",
       "      <td>0</td>\n",
       "      <td>0</td>\n",
       "      <td>1</td>\n",
       "      <td>0</td>\n",
       "      <td>0</td>\n",
       "    </tr>\n",
       "    <tr>\n",
       "      <th>36</th>\n",
       "      <td>Tour</td>\n",
       "      <td>20</td>\n",
       "      <td>0</td>\n",
       "      <td>0</td>\n",
       "      <td>1</td>\n",
       "      <td>1</td>\n",
       "      <td>1</td>\n",
       "      <td>1</td>\n",
       "      <td>1</td>\n",
       "      <td>1</td>\n",
       "    </tr>\n",
       "    <tr>\n",
       "      <th>37</th>\n",
       "      <td>Tour</td>\n",
       "      <td>21</td>\n",
       "      <td>0</td>\n",
       "      <td>0</td>\n",
       "      <td>0</td>\n",
       "      <td>0</td>\n",
       "      <td>0</td>\n",
       "      <td>0</td>\n",
       "      <td>0</td>\n",
       "      <td>0</td>\n",
       "    </tr>\n",
       "  </tbody>\n",
       "</table>\n",
       "</div>"
      ],
      "text/plain": [
       "   Grand Tour  Stage  Breakaway_win  Dummy pred  Logistic pred  SVM pred  \\\n",
       "0        Giro      2              0           0              0         0   \n",
       "1        Giro      3              0           0              0         0   \n",
       "2        Giro      4              1           0              0         1   \n",
       "3        Giro      5              0           0              0         0   \n",
       "4        Giro      6              0           0              0         0   \n",
       "5        Giro      7              1           0              1         1   \n",
       "6        Giro      8              1           0              0         0   \n",
       "7        Giro     10              1           0              0         0   \n",
       "8        Giro     11              0           0              0         0   \n",
       "9        Giro     12              1           0              0         1   \n",
       "10       Giro     13              1           0              0         0   \n",
       "11       Giro     14              1           0              0         0   \n",
       "12       Giro     15              1           0              1         1   \n",
       "13       Giro     16              0           0              1         1   \n",
       "14       Giro     17              0           0              0         0   \n",
       "15       Giro     18              1           0              0         1   \n",
       "16       Giro     19              1           0              1         1   \n",
       "17       Giro     21              0           0              0         0   \n",
       "18       Tour      1              0           0              0         1   \n",
       "19       Tour      2              0           0              0         0   \n",
       "20       Tour      3              0           0              0         0   \n",
       "21       Tour      4              0           0              0         0   \n",
       "22       Tour      5              1           0              0         0   \n",
       "23       Tour      6              0           0              0         0   \n",
       "24       Tour      7              0           0              0         0   \n",
       "25       Tour      8              0           0              0         0   \n",
       "26       Tour      9              1           0              0         0   \n",
       "27       Tour     10              1           0              1         1   \n",
       "28       Tour     11              0           0              0         0   \n",
       "29       Tour     12              1           0              1         1   \n",
       "30       Tour     13              1           0              1         0   \n",
       "31       Tour     14              0           0              1         1   \n",
       "32       Tour     15              1           0              1         1   \n",
       "33       Tour     17              1           0              1         1   \n",
       "34       Tour     18              1           0              0         0   \n",
       "35       Tour     19              1           0              0         0   \n",
       "36       Tour     20              0           0              1         1   \n",
       "37       Tour     21              0           0              0         0   \n",
       "\n",
       "    Decision tree pred  Random forest pred  Naive Bayes pred  KNN pred  \n",
       "0                    0                   0                 0         0  \n",
       "1                    0                   0                 0         0  \n",
       "2                    1                   1                 1         1  \n",
       "3                    0                   0                 0         0  \n",
       "4                    0                   0                 0         0  \n",
       "5                    0                   1                 1         0  \n",
       "6                    0                   1                 0         0  \n",
       "7                    1                   0                 0         1  \n",
       "8                    0                   0                 0         0  \n",
       "9                    1                   1                 1         0  \n",
       "10                   0                   0                 0         0  \n",
       "11                   1                   0                 0         0  \n",
       "12                   0                   1                 1         0  \n",
       "13                   1                   0                 1         0  \n",
       "14                   1                   0                 0         0  \n",
       "15                   1                   1                 1         1  \n",
       "16                   0                   0                 1         1  \n",
       "17                   0                   0                 0         0  \n",
       "18                   0                   0                 1         0  \n",
       "19                   0                   0                 0         0  \n",
       "20                   0                   0                 0         0  \n",
       "21                   0                   0                 0         0  \n",
       "22                   1                   1                 1         1  \n",
       "23                   1                   1                 1         1  \n",
       "24                   0                   0                 0         0  \n",
       "25                   0                   0                 0         0  \n",
       "26                   1                   1                 0         1  \n",
       "27                   1                   1                 1         1  \n",
       "28                   0                   0                 0         0  \n",
       "29                   1                   1                 1         1  \n",
       "30                   0                   0                 1         1  \n",
       "31                   1                   1                 1         1  \n",
       "32                   0                   0                 1         1  \n",
       "33                   1                   0                 1         0  \n",
       "34                   1                   0                 0         1  \n",
       "35                   0                   1                 0         0  \n",
       "36                   1                   1                 1         1  \n",
       "37                   0                   0                 0         0  "
      ]
     },
     "execution_count": 91,
     "metadata": {},
     "output_type": "execute_result"
    }
   ],
   "source": [
    "df_result"
   ]
  },
  {
   "cell_type": "code",
   "execution_count": 92,
   "id": "b078533c-daeb-40af-8bdd-ab9eb22128ec",
   "metadata": {},
   "outputs": [],
   "source": [
    "list_score = list(list_score.items())"
   ]
  },
  {
   "cell_type": "code",
   "execution_count": 93,
   "id": "219630c2-58be-41a8-87ab-a331bba96e2b",
   "metadata": {},
   "outputs": [
    {
     "data": {
      "text/plain": [
       "[('Dummy classifier', 0.5),\n",
       " ('Logistic regression', 0.6316),\n",
       " ('SVM', 0.6579),\n",
       " ('Decision trees', 0.6579),\n",
       " ('Random forest', 0.7105),\n",
       " ('Naive Bayes', 0.6842),\n",
       " ('KNN', 0.7105)]"
      ]
     },
     "execution_count": 93,
     "metadata": {},
     "output_type": "execute_result"
    }
   ],
   "source": [
    "list_score"
   ]
  },
  {
   "cell_type": "markdown",
   "id": "eb4f2a50-8e63-4641-85cf-c0316a424e62",
   "metadata": {},
   "source": [
    "# 4. Optimizing best algo"
   ]
  },
  {
   "cell_type": "markdown",
   "id": "acbead90-c2b4-4e0b-bd64-b09968f5040d",
   "metadata": {},
   "source": [
    "Considering the result score, KNN seems to give the best result on the test data (Without Vuelta for now), let's see if we can improve this score by tuning the algo"
   ]
  },
  {
   "cell_type": "code",
   "execution_count": 94,
   "id": "e97292f0-4376-4068-9a6c-6d16d3878b17",
   "metadata": {},
   "outputs": [
    {
     "name": "stdout",
     "output_type": "stream",
     "text": [
      "score train : 0.8114 score test : 0.7105 \n"
     ]
    }
   ],
   "source": [
    "#Here is a reminds of the KNN score before tuning\n",
    "tr_score = estimator.score(X_train_norm, y_train).round(4)\n",
    "knn_score = estimator.score(X_test_norm, y_test).round(4)\n",
    "print(f\"score train : {tr_score} score test : {knn_score} \")"
   ]
  },
  {
   "cell_type": "markdown",
   "id": "ec982ecd-df02-445c-8ec4-20372a36e478",
   "metadata": {},
   "source": [
    "## 4.1 Find best k (number of neighbors) "
   ]
  },
  {
   "cell_type": "code",
   "execution_count": 95,
   "id": "91efe12f-27e8-4c03-b844-d32707768113",
   "metadata": {},
   "outputs": [
    {
     "name": "stdout",
     "output_type": "stream",
     "text": [
      "[0.6579 0.6053 0.6579 0.5789 0.7105 0.6316 0.6579 0.6316 0.6579 0.6842\n",
      " 0.6842 0.6579 0.7368 0.6842 0.6842 0.6842 0.7368 0.7105 0.6842 0.6842]\n",
      "[1.     0.8505 0.8345 0.806  0.8114 0.7936 0.7865 0.8007 0.7918 0.774\n",
      " 0.774  0.7669 0.7633 0.7633 0.7651 0.7669 0.7562 0.7633 0.742  0.7491]\n"
     ]
    }
   ],
   "source": [
    "# calculating the score of models with different values of k\n",
    "mean_score = np.zeros(20)\n",
    "mean_tr_score = np.zeros(20)\n",
    "for i in range(1,21):\n",
    "    #Train Model and Predict  \n",
    "    knn = KNeighborsClassifier(n_neighbors = i).fit(X_train_norm,y_train)\n",
    "    mean_score[i-1] = knn.score(X_test_norm, y_test).round(4)\n",
    "    mean_tr_score[i-1] = knn.score(X_train_norm, y_train).round(4)\n",
    "    \n",
    "\n",
    "print(mean_score)\n",
    "print(mean_tr_score)"
   ]
  },
  {
   "cell_type": "code",
   "execution_count": 96,
   "id": "76f3b60a-5ce9-42e5-a976-6cf03b51c458",
   "metadata": {},
   "outputs": [
    {
     "data": {
      "image/png": "[encoded data removed]",
      "text/plain": [
       "<Figure size 1000x600 with 1 Axes>"
      ]
     },
     "metadata": {},
     "output_type": "display_data"
    }
   ],
   "source": [
    "loc = np.arange(1,21,step=1.0)\n",
    "plt.figure(figsize = (10, 6))\n",
    "plt.plot(range(1,21), mean_score)\n",
    "plt.xticks(loc)\n",
    "plt.xlabel('Number of Neighbors ')\n",
    "plt.ylabel('Score')\n",
    "plt.show()"
   ]
  },
  {
   "cell_type": "markdown",
   "id": "3221f042-14fd-4740-b6ed-f898d2f7de3e",
   "metadata": {},
   "source": [
    "The best values are [5,13,15,17,19]"
   ]
  },
  {
   "cell_type": "markdown",
   "id": "0086c397-c7a3-45dd-82df-568c1ce1fa72",
   "metadata": {},
   "source": [
    "## 4.2 Hyperparameter Tuning"
   ]
  },
  {
   "cell_type": "code",
   "execution_count": 97,
   "id": "f402dabb-ec75-4ec3-8051-ebefbf6c62b9",
   "metadata": {},
   "outputs": [],
   "source": [
    "#We will use the Exhaustive Grid Search technique\n",
    "grid_params = { 'n_neighbors' : [5,13,15,17,19],\n",
    "               'weights' : ['uniform','distance'],\n",
    "               'metric' : ['minkowski','euclidean','manhattan']}"
   ]
  },
  {
   "cell_type": "code",
   "execution_count": 98,
   "id": "ff1182fc-a84c-47bc-a020-38b6702a7fe5",
   "metadata": {},
   "outputs": [
    {
     "name": "stdout",
     "output_type": "stream",
     "text": [
      "Fitting 3 folds for each of 30 candidates, totalling 90 fits\n"
     ]
    }
   ],
   "source": [
    "gs = GridSearchCV(KNeighborsClassifier(), grid_params, verbose = 1, cv=3, n_jobs = -1)\n",
    "g_res = gs.fit(X_train_norm, y_train)"
   ]
  },
  {
   "cell_type": "code",
   "execution_count": 99,
   "id": "bbaca589-bad9-4db7-a063-3c07d48f7b89",
   "metadata": {},
   "outputs": [
    {
     "data": {
      "text/plain": [
       "0.7420070542723859"
      ]
     },
     "execution_count": 99,
     "metadata": {},
     "output_type": "execute_result"
    }
   ],
   "source": [
    "# find the best score\n",
    "g_res.best_score_"
   ]
  },
  {
   "cell_type": "code",
   "execution_count": 100,
   "id": "7f137c50-ac42-4856-beea-a11366391edd",
   "metadata": {},
   "outputs": [
    {
     "data": {
      "text/plain": [
       "{'metric': 'manhattan', 'n_neighbors': 19, 'weights': 'distance'}"
      ]
     },
     "execution_count": 100,
     "metadata": {},
     "output_type": "execute_result"
    }
   ],
   "source": [
    "# get the hyperparameters with the best score\n",
    "g_res.best_params_"
   ]
  },
  {
   "cell_type": "markdown",
   "id": "80d0c5b3-4fe3-4ce2-8bd1-6283d6d65920",
   "metadata": {},
   "source": [
    "## 4.3 Evaluate the model after tuning"
   ]
  },
  {
   "cell_type": "code",
   "execution_count": 101,
   "id": "d7e3d119-725c-4bdd-bf41-104c01ea208f",
   "metadata": {},
   "outputs": [
    {
     "data": {
      "text/html": [
       "<style>#sk-container-id-1 {color: black;}#sk-container-id-1 pre{padding: 0;}#sk-container-id-1 div.sk-toggleable {background-color: white;}#sk-container-id-1 label.sk-toggleable__label {cursor: pointer;display: block;width: 100%;margin-bottom: 0;padding: 0.3em;box-sizing: border-box;text-align: center;}#sk-container-id-1 label.sk-toggleable__label-arrow:before {content: \"▸\";float: left;margin-right: 0.25em;color: #696969;}#sk-container-id-1 label.sk-toggleable__label-arrow:hover:before {color: black;}#sk-container-id-1 div.sk-estimator:hover label.sk-toggleable__label-arrow:before {color: black;}#sk-container-id-1 div.sk-toggleable__content {max-height: 0;max-width: 0;overflow: hidden;text-align: left;background-color: #f0f8ff;}#sk-container-id-1 div.sk-toggleable__content pre {margin: 0.2em;color: black;border-radius: 0.25em;background-color: #f0f8ff;}#sk-container-id-1 input.sk-toggleable__control:checked~div.sk-toggleable__content {max-height: 200px;max-width: 100%;overflow: auto;}#sk-container-id-1 input.sk-toggleable__control:checked~label.sk-toggleable__label-arrow:before {content: \"▾\";}#sk-container-id-1 div.sk-estimator input.sk-toggleable__control:checked~label.sk-toggleable__label {background-color: #d4ebff;}#sk-container-id-1 div.sk-label input.sk-toggleable__control:checked~label.sk-toggleable__label {background-color: #d4ebff;}#sk-container-id-1 input.sk-hidden--visually {border: 0;clip: rect(1px 1px 1px 1px);clip: rect(1px, 1px, 1px, 1px);height: 1px;margin: -1px;overflow: hidden;padding: 0;position: absolute;width: 1px;}#sk-container-id-1 div.sk-estimator {font-family: monospace;background-color: #f0f8ff;border: 1px dotted black;border-radius: 0.25em;box-sizing: border-box;margin-bottom: 0.5em;}#sk-container-id-1 div.sk-estimator:hover {background-color: #d4ebff;}#sk-container-id-1 div.sk-parallel-item::after {content: \"\";width: 100%;border-bottom: 1px solid gray;flex-grow: 1;}#sk-container-id-1 div.sk-label:hover label.sk-toggleable__label {background-color: #d4ebff;}#sk-container-id-1 div.sk-serial::before {content: \"\";position: absolute;border-left: 1px solid gray;box-sizing: border-box;top: 0;bottom: 0;left: 50%;z-index: 0;}#sk-container-id-1 div.sk-serial {display: flex;flex-direction: column;align-items: center;background-color: white;padding-right: 0.2em;padding-left: 0.2em;position: relative;}#sk-container-id-1 div.sk-item {position: relative;z-index: 1;}#sk-container-id-1 div.sk-parallel {display: flex;align-items: stretch;justify-content: center;background-color: white;position: relative;}#sk-container-id-1 div.sk-item::before, #sk-container-id-1 div.sk-parallel-item::before {content: \"\";position: absolute;border-left: 1px solid gray;box-sizing: border-box;top: 0;bottom: 0;left: 50%;z-index: -1;}#sk-container-id-1 div.sk-parallel-item {display: flex;flex-direction: column;z-index: 1;position: relative;background-color: white;}#sk-container-id-1 div.sk-parallel-item:first-child::after {align-self: flex-end;width: 50%;}#sk-container-id-1 div.sk-parallel-item:last-child::after {align-self: flex-start;width: 50%;}#sk-container-id-1 div.sk-parallel-item:only-child::after {width: 0;}#sk-container-id-1 div.sk-dashed-wrapped {border: 1px dashed gray;margin: 0 0.4em 0.5em 0.4em;box-sizing: border-box;padding-bottom: 0.4em;background-color: white;}#sk-container-id-1 div.sk-label label {font-family: monospace;font-weight: bold;display: inline-block;line-height: 1.2em;}#sk-container-id-1 div.sk-label-container {text-align: center;}#sk-container-id-1 div.sk-container {/* jupyter's `normalize.less` sets `[hidden] { display: none; }` but bootstrap.min.css set `[hidden] { display: none !important; }` so we also need the `!important` here to be able to override the default hidden behavior on the sphinx rendered scikit-learn.org. See: https://github.com/scikit-learn/scikit-learn/issues/21755 */display: inline-block !important;position: relative;}#sk-container-id-1 div.sk-text-repr-fallback {display: none;}</style><div id=\"sk-container-id-1\" class=\"sk-top-container\"><div class=\"sk-text-repr-fallback\"><pre>KNeighborsClassifier(algorithm=&#x27;brute&#x27;, metric=&#x27;manhattan&#x27;, n_neighbors=19,\n",
       "                     weights=&#x27;distance&#x27;)</pre><b>In a Jupyter environment, please rerun this cell to show the HTML representation or trust the notebook. <br />On GitHub, the HTML representation is unable to render, please try loading this page with nbviewer.org.</b></div><div class=\"sk-container\" hidden><div class=\"sk-item\"><div class=\"sk-estimator sk-toggleable\"><input class=\"sk-toggleable__control sk-hidden--visually\" id=\"sk-estimator-id-1\" type=\"checkbox\" checked><label for=\"sk-estimator-id-1\" class=\"sk-toggleable__label sk-toggleable__label-arrow\">KNeighborsClassifier</label><div class=\"sk-toggleable__content\"><pre>KNeighborsClassifier(algorithm=&#x27;brute&#x27;, metric=&#x27;manhattan&#x27;, n_neighbors=19,\n",
       "                     weights=&#x27;distance&#x27;)</pre></div></div></div></div></div>"
      ],
      "text/plain": [
       "KNeighborsClassifier(algorithm='brute', metric='manhattan', n_neighbors=19,\n",
       "                     weights='distance')"
      ]
     },
     "execution_count": 101,
     "metadata": {},
     "output_type": "execute_result"
    }
   ],
   "source": [
    "# use the best hyperparameters\n",
    "knn = KNeighborsClassifier(n_neighbors = 19, weights = 'distance',algorithm = 'brute',metric = 'manhattan')\n",
    "knn.fit(X_train_norm, y_train)"
   ]
  },
  {
   "cell_type": "code",
   "execution_count": 102,
   "id": "cd4c95ac-0811-4b52-86be-7a76e950d600",
   "metadata": {},
   "outputs": [
    {
     "name": "stdout",
     "output_type": "stream",
     "text": [
      "score train : 1.0 score test : 0.7368 \n"
     ]
    }
   ],
   "source": [
    "tr_score = knn.score(X_train_norm, y_train).round(4)\n",
    "knn_score = knn.score(X_test_norm, y_test).round(4)\n",
    "\n",
    "print(f\"score train : {tr_score} score test : {knn_score} \")"
   ]
  },
  {
   "cell_type": "code",
   "execution_count": 103,
   "id": "50ea05c2-10e3-4263-b0ca-e0e201af94df",
   "metadata": {},
   "outputs": [
    {
     "data": {
      "text/html": [
       "<div>\n",
       "<style scoped>\n",
       "    .dataframe tbody tr th:only-of-type {\n",
       "        vertical-align: middle;\n",
       "    }\n",
       "\n",
       "    .dataframe tbody tr th {\n",
       "        vertical-align: top;\n",
       "    }\n",
       "\n",
       "    .dataframe thead th {\n",
       "        text-align: right;\n",
       "    }\n",
       "</style>\n",
       "<table border=\"1\" class=\"dataframe\">\n",
       "  <thead>\n",
       "    <tr style=\"text-align: right;\">\n",
       "      <th></th>\n",
       "      <th>pred_0</th>\n",
       "      <th>pred_1</th>\n",
       "    </tr>\n",
       "  </thead>\n",
       "  <tbody>\n",
       "    <tr>\n",
       "      <th>test_0</th>\n",
       "      <td>16</td>\n",
       "      <td>3</td>\n",
       "    </tr>\n",
       "    <tr>\n",
       "      <th>test_1</th>\n",
       "      <td>7</td>\n",
       "      <td>12</td>\n",
       "    </tr>\n",
       "  </tbody>\n",
       "</table>\n",
       "</div>"
      ],
      "text/plain": [
       "        pred_0  pred_1\n",
       "test_0      16       3\n",
       "test_1       7      12"
      ]
     },
     "execution_count": 103,
     "metadata": {},
     "output_type": "execute_result"
    }
   ],
   "source": [
    "y_pred =knn.predict(X_test_norm)\n",
    "knn_opti_pred = knn.predict(X_test_norm)\n",
    "confusion(y_test, y_pred)"
   ]
  },
  {
   "cell_type": "code",
   "execution_count": 104,
   "id": "627d2b40-7229-4240-952b-b79a573e9517",
   "metadata": {},
   "outputs": [
    {
     "data": {
      "text/plain": [
       "0.7368421052631579"
      ]
     },
     "execution_count": 104,
     "metadata": {},
     "output_type": "execute_result"
    }
   ],
   "source": [
    "false_positive_rate, true_positive_rate, thresholds = roc_curve(y_test, y_pred)\n",
    "roc_auc = auc(false_positive_rate, true_positive_rate)\n",
    "roc_auc"
   ]
  },
  {
   "cell_type": "code",
   "execution_count": 105,
   "id": "58ab410c-4fff-4472-b08a-0bcbd0704cae",
   "metadata": {},
   "outputs": [
    {
     "data": {
      "image/png": "[encoded data removed]",
      "text/plain": [
       "<Figure size 1000x1000 with 1 Axes>"
      ]
     },
     "metadata": {},
     "output_type": "display_data"
    }
   ],
   "source": [
    "plt.figure(figsize=(10,10))\n",
    "plt.title(\"Receveir Operating Characteristic\")\n",
    "plt.plot(false_positive_rate,true_positive_rate, color=\"red\", label= \"AUC = %0.2f\" % roc_auc)\n",
    "plt.legend(loc = \"lower right\")\n",
    "plt.plot([0,1],[0,1], linestyle=\"--\")\n",
    "plt.axis(\"tight\")\n",
    "plt.ylabel(\"True Positive Rate\")\n",
    "plt.xlabel(\"False Positive Rate\")\n",
    "plt.show()"
   ]
  },
  {
   "cell_type": "code",
   "execution_count": 109,
   "id": "3e6785ab-cad5-4f49-8be5-51321529959d",
   "metadata": {},
   "outputs": [],
   "source": [
    "df_result = pd.DataFrame(list(zip(df_test_raw.iloc[:,0],df_test_raw.iloc[:,2],y_test.astype(int),knn_pred,knn_opti_pred)),\n",
    "                                              columns =[\"Grand Tour\",\"Stage\",\"Breakaway_win\",\"KNN pred\",\"KNN opti pred\"])"
   ]
  },
  {
   "cell_type": "code",
   "execution_count": 110,
   "id": "3d9cbee0-56d8-43fe-a8e2-02038bc33787",
   "metadata": {},
   "outputs": [
    {
     "data": {
      "text/html": [
       "<div>\n",
       "<style scoped>\n",
       "    .dataframe tbody tr th:only-of-type {\n",
       "        vertical-align: middle;\n",
       "    }\n",
       "\n",
       "    .dataframe tbody tr th {\n",
       "        vertical-align: top;\n",
       "    }\n",
       "\n",
       "    .dataframe thead th {\n",
       "        text-align: right;\n",
       "    }\n",
       "</style>\n",
       "<table border=\"1\" class=\"dataframe\">\n",
       "  <thead>\n",
       "    <tr style=\"text-align: right;\">\n",
       "      <th></th>\n",
       "      <th>Grand Tour</th>\n",
       "      <th>Stage</th>\n",
       "      <th>Breakaway_win</th>\n",
       "      <th>KNN pred</th>\n",
       "      <th>KNN opti pred</th>\n",
       "    </tr>\n",
       "  </thead>\n",
       "  <tbody>\n",
       "    <tr>\n",
       "      <th>0</th>\n",
       "      <td>Giro</td>\n",
       "      <td>2</td>\n",
       "      <td>0</td>\n",
       "      <td>0</td>\n",
       "      <td>0</td>\n",
       "    </tr>\n",
       "    <tr>\n",
       "      <th>1</th>\n",
       "      <td>Giro</td>\n",
       "      <td>3</td>\n",
       "      <td>0</td>\n",
       "      <td>0</td>\n",
       "      <td>0</td>\n",
       "    </tr>\n",
       "    <tr>\n",
       "      <th>2</th>\n",
       "      <td>Giro</td>\n",
       "      <td>4</td>\n",
       "      <td>1</td>\n",
       "      <td>1</td>\n",
       "      <td>1</td>\n",
       "    </tr>\n",
       "    <tr>\n",
       "      <th>3</th>\n",
       "      <td>Giro</td>\n",
       "      <td>5</td>\n",
       "      <td>0</td>\n",
       "      <td>0</td>\n",
       "      <td>0</td>\n",
       "    </tr>\n",
       "    <tr>\n",
       "      <th>4</th>\n",
       "      <td>Giro</td>\n",
       "      <td>6</td>\n",
       "      <td>0</td>\n",
       "      <td>0</td>\n",
       "      <td>0</td>\n",
       "    </tr>\n",
       "    <tr>\n",
       "      <th>5</th>\n",
       "      <td>Giro</td>\n",
       "      <td>7</td>\n",
       "      <td>1</td>\n",
       "      <td>0</td>\n",
       "      <td>0</td>\n",
       "    </tr>\n",
       "    <tr>\n",
       "      <th>6</th>\n",
       "      <td>Giro</td>\n",
       "      <td>8</td>\n",
       "      <td>1</td>\n",
       "      <td>0</td>\n",
       "      <td>1</td>\n",
       "    </tr>\n",
       "    <tr>\n",
       "      <th>7</th>\n",
       "      <td>Giro</td>\n",
       "      <td>10</td>\n",
       "      <td>1</td>\n",
       "      <td>1</td>\n",
       "      <td>1</td>\n",
       "    </tr>\n",
       "    <tr>\n",
       "      <th>8</th>\n",
       "      <td>Giro</td>\n",
       "      <td>11</td>\n",
       "      <td>0</td>\n",
       "      <td>0</td>\n",
       "      <td>0</td>\n",
       "    </tr>\n",
       "    <tr>\n",
       "      <th>9</th>\n",
       "      <td>Giro</td>\n",
       "      <td>12</td>\n",
       "      <td>1</td>\n",
       "      <td>0</td>\n",
       "      <td>1</td>\n",
       "    </tr>\n",
       "    <tr>\n",
       "      <th>10</th>\n",
       "      <td>Giro</td>\n",
       "      <td>13</td>\n",
       "      <td>1</td>\n",
       "      <td>0</td>\n",
       "      <td>0</td>\n",
       "    </tr>\n",
       "    <tr>\n",
       "      <th>11</th>\n",
       "      <td>Giro</td>\n",
       "      <td>14</td>\n",
       "      <td>1</td>\n",
       "      <td>0</td>\n",
       "      <td>0</td>\n",
       "    </tr>\n",
       "    <tr>\n",
       "      <th>12</th>\n",
       "      <td>Giro</td>\n",
       "      <td>15</td>\n",
       "      <td>1</td>\n",
       "      <td>0</td>\n",
       "      <td>1</td>\n",
       "    </tr>\n",
       "    <tr>\n",
       "      <th>13</th>\n",
       "      <td>Giro</td>\n",
       "      <td>16</td>\n",
       "      <td>0</td>\n",
       "      <td>0</td>\n",
       "      <td>0</td>\n",
       "    </tr>\n",
       "    <tr>\n",
       "      <th>14</th>\n",
       "      <td>Giro</td>\n",
       "      <td>17</td>\n",
       "      <td>0</td>\n",
       "      <td>0</td>\n",
       "      <td>0</td>\n",
       "    </tr>\n",
       "    <tr>\n",
       "      <th>15</th>\n",
       "      <td>Giro</td>\n",
       "      <td>18</td>\n",
       "      <td>1</td>\n",
       "      <td>1</td>\n",
       "      <td>1</td>\n",
       "    </tr>\n",
       "    <tr>\n",
       "      <th>16</th>\n",
       "      <td>Giro</td>\n",
       "      <td>19</td>\n",
       "      <td>1</td>\n",
       "      <td>1</td>\n",
       "      <td>0</td>\n",
       "    </tr>\n",
       "    <tr>\n",
       "      <th>17</th>\n",
       "      <td>Giro</td>\n",
       "      <td>21</td>\n",
       "      <td>0</td>\n",
       "      <td>0</td>\n",
       "      <td>0</td>\n",
       "    </tr>\n",
       "    <tr>\n",
       "      <th>18</th>\n",
       "      <td>Tour</td>\n",
       "      <td>1</td>\n",
       "      <td>0</td>\n",
       "      <td>0</td>\n",
       "      <td>0</td>\n",
       "    </tr>\n",
       "    <tr>\n",
       "      <th>19</th>\n",
       "      <td>Tour</td>\n",
       "      <td>2</td>\n",
       "      <td>0</td>\n",
       "      <td>0</td>\n",
       "      <td>0</td>\n",
       "    </tr>\n",
       "    <tr>\n",
       "      <th>20</th>\n",
       "      <td>Tour</td>\n",
       "      <td>3</td>\n",
       "      <td>0</td>\n",
       "      <td>0</td>\n",
       "      <td>0</td>\n",
       "    </tr>\n",
       "    <tr>\n",
       "      <th>21</th>\n",
       "      <td>Tour</td>\n",
       "      <td>4</td>\n",
       "      <td>0</td>\n",
       "      <td>0</td>\n",
       "      <td>0</td>\n",
       "    </tr>\n",
       "    <tr>\n",
       "      <th>22</th>\n",
       "      <td>Tour</td>\n",
       "      <td>5</td>\n",
       "      <td>1</td>\n",
       "      <td>1</td>\n",
       "      <td>1</td>\n",
       "    </tr>\n",
       "    <tr>\n",
       "      <th>23</th>\n",
       "      <td>Tour</td>\n",
       "      <td>6</td>\n",
       "      <td>0</td>\n",
       "      <td>1</td>\n",
       "      <td>1</td>\n",
       "    </tr>\n",
       "    <tr>\n",
       "      <th>24</th>\n",
       "      <td>Tour</td>\n",
       "      <td>7</td>\n",
       "      <td>0</td>\n",
       "      <td>0</td>\n",
       "      <td>0</td>\n",
       "    </tr>\n",
       "    <tr>\n",
       "      <th>25</th>\n",
       "      <td>Tour</td>\n",
       "      <td>8</td>\n",
       "      <td>0</td>\n",
       "      <td>0</td>\n",
       "      <td>0</td>\n",
       "    </tr>\n",
       "    <tr>\n",
       "      <th>26</th>\n",
       "      <td>Tour</td>\n",
       "      <td>9</td>\n",
       "      <td>1</td>\n",
       "      <td>1</td>\n",
       "      <td>1</td>\n",
       "    </tr>\n",
       "    <tr>\n",
       "      <th>27</th>\n",
       "      <td>Tour</td>\n",
       "      <td>10</td>\n",
       "      <td>1</td>\n",
       "      <td>1</td>\n",
       "      <td>1</td>\n",
       "    </tr>\n",
       "    <tr>\n",
       "      <th>28</th>\n",
       "      <td>Tour</td>\n",
       "      <td>11</td>\n",
       "      <td>0</td>\n",
       "      <td>0</td>\n",
       "      <td>0</td>\n",
       "    </tr>\n",
       "    <tr>\n",
       "      <th>29</th>\n",
       "      <td>Tour</td>\n",
       "      <td>12</td>\n",
       "      <td>1</td>\n",
       "      <td>1</td>\n",
       "      <td>1</td>\n",
       "    </tr>\n",
       "    <tr>\n",
       "      <th>30</th>\n",
       "      <td>Tour</td>\n",
       "      <td>13</td>\n",
       "      <td>1</td>\n",
       "      <td>1</td>\n",
       "      <td>0</td>\n",
       "    </tr>\n",
       "    <tr>\n",
       "      <th>31</th>\n",
       "      <td>Tour</td>\n",
       "      <td>14</td>\n",
       "      <td>0</td>\n",
       "      <td>1</td>\n",
       "      <td>1</td>\n",
       "    </tr>\n",
       "    <tr>\n",
       "      <th>32</th>\n",
       "      <td>Tour</td>\n",
       "      <td>15</td>\n",
       "      <td>1</td>\n",
       "      <td>1</td>\n",
       "      <td>1</td>\n",
       "    </tr>\n",
       "    <tr>\n",
       "      <th>33</th>\n",
       "      <td>Tour</td>\n",
       "      <td>17</td>\n",
       "      <td>1</td>\n",
       "      <td>0</td>\n",
       "      <td>1</td>\n",
       "    </tr>\n",
       "    <tr>\n",
       "      <th>34</th>\n",
       "      <td>Tour</td>\n",
       "      <td>18</td>\n",
       "      <td>1</td>\n",
       "      <td>1</td>\n",
       "      <td>0</td>\n",
       "    </tr>\n",
       "    <tr>\n",
       "      <th>35</th>\n",
       "      <td>Tour</td>\n",
       "      <td>19</td>\n",
       "      <td>1</td>\n",
       "      <td>0</td>\n",
       "      <td>0</td>\n",
       "    </tr>\n",
       "    <tr>\n",
       "      <th>36</th>\n",
       "      <td>Tour</td>\n",
       "      <td>20</td>\n",
       "      <td>0</td>\n",
       "      <td>1</td>\n",
       "      <td>1</td>\n",
       "    </tr>\n",
       "    <tr>\n",
       "      <th>37</th>\n",
       "      <td>Tour</td>\n",
       "      <td>21</td>\n",
       "      <td>0</td>\n",
       "      <td>0</td>\n",
       "      <td>0</td>\n",
       "    </tr>\n",
       "  </tbody>\n",
       "</table>\n",
       "</div>"
      ],
      "text/plain": [
       "   Grand Tour  Stage  Breakaway_win  KNN pred  KNN opti pred\n",
       "0        Giro      2              0         0              0\n",
       "1        Giro      3              0         0              0\n",
       "2        Giro      4              1         1              1\n",
       "3        Giro      5              0         0              0\n",
       "4        Giro      6              0         0              0\n",
       "5        Giro      7              1         0              0\n",
       "6        Giro      8              1         0              1\n",
       "7        Giro     10              1         1              1\n",
       "8        Giro     11              0         0              0\n",
       "9        Giro     12              1         0              1\n",
       "10       Giro     13              1         0              0\n",
       "11       Giro     14              1         0              0\n",
       "12       Giro     15              1         0              1\n",
       "13       Giro     16              0         0              0\n",
       "14       Giro     17              0         0              0\n",
       "15       Giro     18              1         1              1\n",
       "16       Giro     19              1         1              0\n",
       "17       Giro     21              0         0              0\n",
       "18       Tour      1              0         0              0\n",
       "19       Tour      2              0         0              0\n",
       "20       Tour      3              0         0              0\n",
       "21       Tour      4              0         0              0\n",
       "22       Tour      5              1         1              1\n",
       "23       Tour      6              0         1              1\n",
       "24       Tour      7              0         0              0\n",
       "25       Tour      8              0         0              0\n",
       "26       Tour      9              1         1              1\n",
       "27       Tour     10              1         1              1\n",
       "28       Tour     11              0         0              0\n",
       "29       Tour     12              1         1              1\n",
       "30       Tour     13              1         1              0\n",
       "31       Tour     14              0         1              1\n",
       "32       Tour     15              1         1              1\n",
       "33       Tour     17              1         0              1\n",
       "34       Tour     18              1         1              0\n",
       "35       Tour     19              1         0              0\n",
       "36       Tour     20              0         1              1\n",
       "37       Tour     21              0         0              0"
      ]
     },
     "execution_count": 110,
     "metadata": {},
     "output_type": "execute_result"
    }
   ],
   "source": [
    "df_result"
   ]
  },
  {
   "cell_type": "markdown",
   "id": "9ce25959-d2c9-49cf-b069-20ca96731c4e",
   "metadata": {},
   "source": [
    "We can see that predictions for the Giro are much better, but worse on the Tour. "
   ]
  },
  {
   "cell_type": "code",
   "execution_count": null,
   "id": "06a75c79-73f2-4d30-9e87-ebed93ef0cc0",
   "metadata": {},
   "outputs": [],
   "source": []
  }
 ],
 "metadata": {
  "kernelspec": {
   "display_name": "Breakaway_win",
   "language": "python",
   "name": "breakaway_win"
  },
  "language_info": {
   "codemirror_mode": {
    "name": "ipython",
    "version": 3
   },
   "file_extension": ".py",
   "mimetype": "text/x-python",
   "name": "python",
   "nbconvert_exporter": "python",
   "pygments_lexer": "ipython3",
   "version": "3.11.1"
  }
 },
 "nbformat": 4,
 "nbformat_minor": 5
}
